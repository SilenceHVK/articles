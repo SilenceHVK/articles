{
 "cells": [
  {
   "cell_type": "code",
   "id": "initial_id",
   "metadata": {
    "collapsed": true,
    "ExecuteTime": {
     "end_time": "2024-09-05T01:38:46.955070Z",
     "start_time": "2024-09-05T01:38:45.692651Z"
    }
   },
   "source": [
    "import torch\n",
    "\n",
    "print(torch.backends.mps.is_available())\n",
    "print(torch.backends.mps.is_built())"
   ],
   "outputs": [
    {
     "name": "stdout",
     "output_type": "stream",
     "text": [
      "True\n",
      "True\n"
     ]
    }
   ],
   "execution_count": 1
  },
  {
   "metadata": {
    "ExecuteTime": {
     "end_time": "2024-09-05T01:40:25.098440Z",
     "start_time": "2024-09-05T01:40:03.082147Z"
    }
   },
   "cell_type": "code",
   "source": [
    "N = 1_000_000_000\n",
    "cpu_a = torch.randn([1, N])\n",
    "cpu_b = torch.randn([N, 1])\n",
    "print(cpu_a, cpu_b)"
   ],
   "id": "fc45ceca387a15c2",
   "outputs": [
    {
     "name": "stdout",
     "output_type": "stream",
     "text": [
      "tensor([[ 0.2264,  0.4152, -0.0043,  ...,  1.0956,  0.4223,  0.8207]]) tensor([[ 0.2638],\n",
      "        [-0.4048],\n",
      "        [-1.3743],\n",
      "        ...,\n",
      "        [ 0.3204],\n",
      "        [-0.6136],\n",
      "        [ 1.0081]])\n"
     ]
    }
   ],
   "execution_count": 3
  },
  {
   "metadata": {
    "ExecuteTime": {
     "end_time": "2024-09-05T01:41:18.772947Z",
     "start_time": "2024-09-05T01:41:13.955336Z"
    }
   },
   "cell_type": "code",
   "source": [
    "device_gpu = torch.device('mps')\n",
    "gpu_a = torch.randn([1, N], device=device_gpu)\n",
    "gpu_b = torch.randn([N, 1], device=device_gpu)\n",
    "print(gpu_a, gpu_b)"
   ],
   "id": "a160dbd0adbb061d",
   "outputs": [
    {
     "name": "stdout",
     "output_type": "stream",
     "text": [
      "tensor([[-0.1254, -0.9935,  0.2945,  ...,  0.4667,  0.6099, -1.5880]],\n",
      "       device='mps:0') tensor([[-0.4043],\n",
      "        [ 0.6014],\n",
      "        [-1.5182],\n",
      "        ...,\n",
      "        [ 1.0172],\n",
      "        [ 0.1149],\n",
      "        [-0.7834]], device='mps:0')\n"
     ]
    }
   ],
   "execution_count": 4
  },
  {
   "metadata": {
    "ExecuteTime": {
     "end_time": "2024-09-05T01:42:09.754780Z",
     "start_time": "2024-09-05T01:42:09.750406Z"
    }
   },
   "cell_type": "code",
   "source": [
    "def cpu_run():\n",
    "\tc = torch.matmul(cpu_a, cpu_b)\n",
    "\treturn c\n",
    "\n",
    "\n",
    "def gpu_run():\n",
    "\tc = torch.matmul(gpu_a, gpu_b)\n",
    "\treturn c"
   ],
   "id": "16b9693bf61497bc",
   "outputs": [],
   "execution_count": 5
  },
  {
   "metadata": {
    "ExecuteTime": {
     "end_time": "2024-09-05T01:42:31.779916Z",
     "start_time": "2024-09-05T01:42:28.780465Z"
    }
   },
   "cell_type": "code",
   "source": [
    "import timeit\n",
    "\n",
    "cpu_time = timeit.timeit(cpu_run, number=3)\n",
    "gpu_time = timeit.timeit(gpu_run, number=3)\n",
    "print(cpu_time, gpu_time)"
   ],
   "id": "2f290409585e6595",
   "outputs": [
    {
     "name": "stdout",
     "output_type": "stream",
     "text": [
      "2.9606415830003243 0.0360274170016055\n"
     ]
    }
   ],
   "execution_count": 6
  }
 ],
 "metadata": {
  "kernelspec": {
   "display_name": "Python 3",
   "language": "python",
   "name": "python3"
  },
  "language_info": {
   "codemirror_mode": {
    "name": "ipython",
    "version": 2
   },
   "file_extension": ".py",
   "mimetype": "text/x-python",
   "name": "python",
   "nbconvert_exporter": "python",
   "pygments_lexer": "ipython2",
   "version": "2.7.6"
  }
 },
 "nbformat": 4,
 "nbformat_minor": 5
}
