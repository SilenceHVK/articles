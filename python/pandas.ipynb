{
 "cells": [
  {
   "cell_type": "markdown",
   "metadata": {},
   "source": [
    "### Pandas 数据结构 - Series\n",
    "\n",
    "Pandas Series 类似表格中的一个列（column），类似于一维数组，可以保存任何数据类型。\n",
    "\n",
    "```python\n",
    "pandas.Series( data, index, dtype, name, copy)\n",
    "```\n",
    "\n",
    "- data：一组数据(ndarray 类型)。\n",
    "- index：数据索引标签，如果不指定，默认从 0 开始。\n",
    "- dtype：数据类型，默认会自己判断。\n",
    "- name：设置名称。\n",
    "- copy：拷贝数据，默认为 False。"
   ]
  },
  {
   "cell_type": "code",
   "execution_count": 6,
   "metadata": {},
   "outputs": [
    {
     "name": "stdout",
     "output_type": "stream",
     "text": [
      "P         Python\n",
      "G         Golang\n",
      "J           Java\n",
      "JS    JavaScript\n",
      "dtype: object\n",
      "Jay        周杰伦\n",
      "Vae         许嵩\n",
      "Silence    汪苏泷\n",
      "Name: singer, dtype: object\n"
     ]
    }
   ],
   "source": [
    "import pandas as pd\n",
    "\n",
    "language = pd.Series(\n",
    "\t[ 'Python', 'Golang', 'Java', 'JavaScript' ],\n",
    "\tindex=['P', 'G', 'J', 'JS']\n",
    ")\n",
    "print(language)\n",
    "\n",
    "\n",
    "#  通过 key/value\n",
    "singer = pd.Series(\n",
    "\t{ 'Jay': '周杰伦', 'Vae': '许嵩', 'Silence': '汪苏泷' },\n",
    "\tname='singer'\n",
    ")\n",
    "print(singer)"
   ]
  },
  {
   "cell_type": "markdown",
   "metadata": {},
   "source": [
    "### Pandas 数据结构 - DataFrame\n",
    "\n",
    "DataFrame 是一个表格型的数据结构，它含有一组有序的列，每列可以是不同的值类型（数值、字符串、布尔型值）。DataFrame 既有行索引也有列索引，它可以被看做由 Series 组成的字典（共同用一个索引）。\n",
    "\n",
    "```python\n",
    "pandas.DataFrame( data, index, columns, dtype, copy)\n",
    "```\n",
    "- data：一组数据(ndarray、series, map, lists, dict 等类型)。\n",
    "- index：索引值，或者可以称为行标签。\n",
    "- columns：列标签，默认为 RangeIndex (0, 1, 2, …, n) 。\n",
    "- dtype：数据类型。\n",
    "- copy：拷贝数据，默认为 False。"
   ]
  },
  {
   "cell_type": "code",
   "execution_count": 10,
   "metadata": {},
   "outputs": [
    {
     "name": "stdout",
     "output_type": "stream",
     "text": [
      "     Site  Sort\n",
      "0  Google     1\n",
      "1    Bing     2\n",
      "2   Yahoo     3\n"
     ]
    }
   ],
   "source": [
    "import pandas as pd\n",
    "\n",
    "data = pd.DataFrame([['Google', 1], ['Bing', 2], ['Yahoo', 3]], columns=['Site', 'Sort'])\n",
    "print(data)"
   ]
  },
  {
   "cell_type": "code",
   "execution_count": 12,
   "metadata": {},
   "outputs": [
    {
     "name": "stdout",
     "output_type": "stream",
     "text": [
      "Site    Google\n",
      "Sort         1\n",
      "Name: 0, dtype: object\n",
      "    Site  Sort\n",
      "1   Bing     2\n",
      "2  Yahoo     3\n"
     ]
    }
   ],
   "source": [
    "# 使用 loc 获取指定行的数据，索引从 0 开始\n",
    "print(data.loc[0])\n",
    "\n",
    "# 多行以逗号隔开\n",
    "print(data.loc[[1, 2]])"
   ]
  },
  {
   "cell_type": "markdown",
   "metadata": {},
   "source": [
    "### Pandas CSV 文件"
   ]
  },
  {
   "cell_type": "code",
   "execution_count": 21,
   "metadata": {},
   "outputs": [
    {
     "name": "stdout",
     "output_type": "stream",
     "text": [
      "            Name            Team  Number Position   Age Height  Weight  \\\n",
      "0  Avery Bradley  Boston Celtics     0.0       PG  25.0    6-2   180.0   \n",
      "1    Jae Crowder  Boston Celtics    99.0       SF  25.0    6-6   235.0   \n",
      "2   John Holland  Boston Celtics    30.0       SG  27.0    6-5   205.0   \n",
      "3    R.J. Hunter  Boston Celtics    28.0       SG  22.0    6-5   185.0   \n",
      "4  Jonas Jerebko  Boston Celtics     8.0       PF  29.0   6-10   231.0   \n",
      "\n",
      "             College     Salary  \n",
      "0              Texas  7730337.0  \n",
      "1          Marquette  6796117.0  \n",
      "2  Boston University        NaN  \n",
      "3      Georgia State  1148640.0  \n",
      "4                NaN  5000000.0  \n",
      "             Name       Team  Number Position   Age Height  Weight College  \\\n",
      "453  Shelvin Mack  Utah Jazz     8.0       PG  26.0    6-3   203.0  Butler   \n",
      "454     Raul Neto  Utah Jazz    25.0       PG  24.0    6-1   179.0     NaN   \n",
      "455  Tibor Pleiss  Utah Jazz    21.0        C  26.0    7-3   256.0     NaN   \n",
      "456   Jeff Withey  Utah Jazz    24.0        C  26.0    7-0   231.0  Kansas   \n",
      "457           NaN        NaN     NaN      NaN   NaN    NaN     NaN     NaN   \n",
      "\n",
      "        Salary  \n",
      "453  2433333.0  \n",
      "454   900000.0  \n",
      "455  2900000.0  \n",
      "456   947276.0  \n",
      "457        NaN  \n",
      "<class 'pandas.core.frame.DataFrame'>\n",
      "RangeIndex: 458 entries, 0 to 457\n",
      "Data columns (total 9 columns):\n",
      " #   Column    Non-Null Count  Dtype  \n",
      "---  ------    --------------  -----  \n",
      " 0   Name      457 non-null    object \n",
      " 1   Team      457 non-null    object \n",
      " 2   Number    457 non-null    float64\n",
      " 3   Position  457 non-null    object \n",
      " 4   Age       457 non-null    float64\n",
      " 5   Height    457 non-null    object \n",
      " 6   Weight    457 non-null    float64\n",
      " 7   College   373 non-null    object \n",
      " 8   Salary    446 non-null    float64\n",
      "dtypes: float64(4), object(5)\n",
      "memory usage: 32.3+ KB\n",
      "None\n"
     ]
    }
   ],
   "source": [
    "import pandas as pd\n",
    "\n",
    "# 通过 read_csv 读取 csv 文件\n",
    "nba_data = pd.read_csv('/Users/h_vk/Downloads/nba.csv')\n",
    "\n",
    "# 打印前 5 条数据\n",
    "print(nba_data.head(5))\n",
    "# 打印后 5 条数据\n",
    "print(nba_data.tail(5))\n",
    "\n",
    "# 打印表格的基本信息\n",
    "print(nba_data.info())"
   ]
  },
  {
   "cell_type": "code",
   "execution_count": 18,
   "metadata": {},
   "outputs": [],
   "source": [
    "import pandas as pd\n",
    "\n",
    "singer = pd.DataFrame([\n",
    "\t['周杰伦', '最伟大的作品'],\n",
    "\t['许嵩', '呼吸之野']\n",
    "], columns= ['Name', 'Album'])\n",
    "\n",
    "# 通过 to_csv 将内容写入 csv 文件\n",
    "singer.to_csv('singer.csv')\n",
    "\n",
    "\n"
   ]
  }
 ],
 "metadata": {
  "kernelspec": {
   "display_name": "Python 3.9.13 ('pytorch')",
   "language": "python",
   "name": "python3"
  },
  "language_info": {
   "codemirror_mode": {
    "name": "ipython",
    "version": 3
   },
   "file_extension": ".py",
   "mimetype": "text/x-python",
   "name": "python",
   "nbconvert_exporter": "python",
   "pygments_lexer": "ipython3",
   "version": "3.9.13"
  },
  "orig_nbformat": 4,
  "vscode": {
   "interpreter": {
    "hash": "0b5c9008cc28d0f4f547c14d26d01b3e8a0910744f49805b01893aeb4faad4cb"
   }
  }
 },
 "nbformat": 4,
 "nbformat_minor": 2
}
