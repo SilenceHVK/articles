{
 "cells": [
  {
   "attachments": {},
   "cell_type": "markdown",
   "metadata": {},
   "source": [
    "### 一、安装 OpenCV "
   ]
  },
  {
   "cell_type": "code",
   "execution_count": null,
   "metadata": {},
   "outputs": [],
   "source": [
    "# 安装 opencv\n",
    "!pip3 install matplotlib numpy opencv_python --upgrade"
   ]
  },
  {
   "attachments": {},
   "cell_type": "markdown",
   "metadata": {},
   "source": [
    "### 二、创建窗口"
   ]
  },
  {
   "cell_type": "code",
   "execution_count": 1,
   "metadata": {},
   "outputs": [],
   "source": [
    "import cv2\n",
    "\n",
    "# 创建窗口（窗口名称，窗口模式默认 WINDOW_AUTOSIZE）\n",
    "cv2.namedWindow('window_name', cv2.WINDOW_NORMAL)\n",
    "# 设置窗口大小（窗口名称，宽度，高度）\n",
    "cv2.resizeWindow('window_name', 1920, 1080)\n",
    "# 展示窗口（窗口名称，窗口加载的数据）\n",
    "cv2.imshow('window_name', 0)\n",
    "# 监听窗口事件\n",
    "key = cv2.waitKey(0)\n",
    "# 监听键盘 q 按键，则退出程序\n",
    "if key == ord('q'):\n",
    "\t# 销毁窗口\n",
    "\tcv2.destroyAllWindows()\n",
    "\texit()"
   ]
  },
  {
   "attachments": {},
   "cell_type": "markdown",
   "metadata": {},
   "source": [
    "### 三、加载图片"
   ]
  },
  {
   "cell_type": "code",
   "execution_count": 1,
   "metadata": {},
   "outputs": [
    {
     "ename": "",
     "evalue": "",
     "output_type": "error",
     "traceback": [
      "\u001b[1;31mThe Kernel crashed while executing code in the the current cell or a previous cell. Please review the code in the cell(s) to identify a possible cause of the failure. Click <a href='https://aka.ms/vscodeJupyterKernelCrash'>here</a> for more info. View Jupyter <a href='command:jupyter.viewOutput'>log</a> for further details."
     ]
    }
   ],
   "source": [
    "import cv2\n",
    "\n",
    "# 读取文件数据（图片路径，图片读取模式）\n",
    "image = cv2.imread('/Users/h_vk/Downloads/cat.jpeg', cv2.IMREAD_COLOR)\n",
    "# 创建窗口\n",
    "cv2.namedWindow('image', cv2.WINDOW_NORMAL)\n",
    "# 显示图片\n",
    "cv2.imshow('image', image)\n",
    "# 监听窗口事件\n",
    "key = cv2.waitKey(0)\n",
    "if key == ord('q'):\n",
    "\t# 销毁窗口\n",
    "\tcv2.destroyAllWindows()\n",
    "\texit()"
   ]
  },
  {
   "attachments": {},
   "cell_type": "markdown",
   "metadata": {},
   "source": [
    "### 四、保存图片"
   ]
  },
  {
   "cell_type": "code",
   "execution_count": 3,
   "metadata": {},
   "outputs": [
    {
     "data": {
      "text/plain": [
       "True"
      ]
     },
     "execution_count": 3,
     "metadata": {},
     "output_type": "execute_result"
    }
   ],
   "source": [
    "import cv2\n",
    "\n",
    "# 读取图片，模式为灰度\n",
    "image = cv2.imread('/Users/h_vk/Downloads/cat.jpeg', cv2.IMREAD_GRAYSCALE)\n",
    "\n",
    "# 保存图片\n",
    "cv2.imwrite('/Users/h_vk/Downloads/cat_grayscale.jpeg', image)"
   ]
  },
  {
   "attachments": {},
   "cell_type": "markdown",
   "metadata": {},
   "source": [
    "### 五、采集摄像头数据"
   ]
  },
  {
   "cell_type": "code",
   "execution_count": 1,
   "metadata": {},
   "outputs": [
    {
     "ename": "",
     "evalue": "",
     "output_type": "error",
     "traceback": [
      "\u001b[1;31mThe Kernel crashed while executing code in the the current cell or a previous cell. Please review the code in the cell(s) to identify a possible cause of the failure. Click <a href='https://aka.ms/vscodeJupyterKernelCrash'>here</a> for more info. View Jupyter <a href='command:jupyter.viewOutput'>log</a> for further details."
     ]
    }
   ],
   "source": [
    "import cv2\n",
    "\n",
    "# 获取采集设备\n",
    "cap = cv2.VideoCapture(0)\n",
    "# 设置采集设备帧率\n",
    "cap.set(cv2.CAP_PROP_FPS, 30)\n",
    "\n",
    "# 创建窗口\n",
    "cv2.namedWindow('video', cv2.WINDOW_NORMAL)\n",
    "\n",
    "# 判断摄像头是否开启\n",
    "while cap.isOpened():\n",
    "\t# 读取每一帧数据\n",
    "\tfet, frame = cap.read()\n",
    "\t# 将每一帧数据显示在窗口\n",
    "\tcv2.imshow('video', frame)\n",
    "\t\n",
    "\tkey = cv2.waitKey(1)\n",
    "\tif key == ord('q'):\n",
    "\t\tbreak\n",
    "\n",
    "# 释放采集设备\n",
    "cap.release()\n",
    "# 销毁所有窗口\n",
    "cv2.destroyAllWindows()\n",
    "exit()"
   ]
  },
  {
   "attachments": {},
   "cell_type": "markdown",
   "metadata": {},
   "source": [
    "### 六、读取视频文件"
   ]
  },
  {
   "cell_type": "code",
   "execution_count": 3,
   "metadata": {},
   "outputs": [
    {
     "ename": "",
     "evalue": "",
     "output_type": "error",
     "traceback": [
      "\u001b[1;31mThe Kernel crashed while executing code in the the current cell or a previous cell. Please review the code in the cell(s) to identify a possible cause of the failure. Click <a href='https://aka.ms/vscodeJupyterKernelCrash'>here</a> for more info. View Jupyter <a href='command:jupyter.viewOutput'>log</a> for further details."
     ]
    }
   ],
   "source": [
    "import cv2\n",
    "\n",
    "# 获取采集设备\n",
    "cap = cv2.VideoCapture('/Users/h_vk/Downloads/test.mp4')\n",
    "\n",
    "# 创建窗口\n",
    "cv2.namedWindow('video', cv2.WINDOW_NORMAL)\n",
    "\n",
    "while True:\n",
    "\tfet, frame = cap.read()\n",
    "\tcv2.imshow('video', frame)\n",
    "\tkey = cv2.waitKey(1)\n",
    "\tif key == ord('q'):\n",
    "\t\tbreak\n",
    "\n",
    "# 释放 VideoCapture\n",
    "cap.release()\n",
    "cv2.destroyAllWindows()\n",
    "exit()\n"
   ]
  }
 ],
 "metadata": {
  "kernelspec": {
   "display_name": "pytorch",
   "language": "python",
   "name": "python3"
  },
  "language_info": {
   "codemirror_mode": {
    "name": "ipython",
    "version": 3
   },
   "file_extension": ".py",
   "mimetype": "text/x-python",
   "name": "python",
   "nbconvert_exporter": "python",
   "pygments_lexer": "ipython3",
   "version": "3.9.13"
  },
  "orig_nbformat": 4,
  "vscode": {
   "interpreter": {
    "hash": "0b5c9008cc28d0f4f547c14d26d01b3e8a0910744f49805b01893aeb4faad4cb"
   }
  }
 },
 "nbformat": 4,
 "nbformat_minor": 2
}
