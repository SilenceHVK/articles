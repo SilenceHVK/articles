{
 "cells": [
  {
   "attachments": {},
   "cell_type": "markdown",
   "metadata": {},
   "source": [
    "### 一、安装 OpenCV "
   ]
  },
  {
   "cell_type": "code",
   "execution_count": null,
   "metadata": {},
   "outputs": [],
   "source": [
    "# 安装 opencv\n",
    "!pip3 install matplotlib numpy opencv_python --upgrade"
   ]
  },
  {
   "attachments": {},
   "cell_type": "markdown",
   "metadata": {},
   "source": [
    "### 二、创建窗口"
   ]
  },
  {
   "cell_type": "code",
   "execution_count": 1,
   "metadata": {},
   "outputs": [],
   "source": [
    "import cv2\n",
    "\n",
    "# 创建窗口（窗口名称，窗口模式默认 WINDOW_AUTOSIZE）\n",
    "cv2.namedWindow('window_name', cv2.WINDOW_NORMAL)\n",
    "# 设置窗口大小（窗口名称，宽度，高度）\n",
    "cv2.resizeWindow('window_name', 1920, 1080)\n",
    "# 展示窗口（窗口名称，窗口加载的数据）\n",
    "cv2.imshow('window_name', 0)\n",
    "# 监听窗口事件\n",
    "key = cv2.waitKey(0)\n",
    "# 监听键盘 q 按键，则退出程序\n",
    "if key == ord('q'):\n",
    "\t# 销毁窗口\n",
    "\tcv2.destroyAllWindows()\n",
    "\texit()"
   ]
  },
  {
   "attachments": {},
   "cell_type": "markdown",
   "metadata": {},
   "source": [
    "### 三、加载图片"
   ]
  },
  {
   "cell_type": "code",
   "execution_count": 1,
   "metadata": {},
   "outputs": [
    {
     "ename": "",
     "evalue": "",
     "output_type": "error",
     "traceback": [
      "\u001b[1;31mThe Kernel crashed while executing code in the the current cell or a previous cell. Please review the code in the cell(s) to identify a possible cause of the failure. Click <a href='https://aka.ms/vscodeJupyterKernelCrash'>here</a> for more info. View Jupyter <a href='command:jupyter.viewOutput'>log</a> for further details."
     ]
    }
   ],
   "source": [
    "import cv2\n",
    "\n",
    "# 读取文件数据（图片路径，图片读取模式）\n",
    "image = cv2.imread('/Users/h_vk/Downloads/cat.jpeg', cv2.IMREAD_COLOR)\n",
    "# 创建窗口\n",
    "cv2.namedWindow('image', cv2.WINDOW_NORMAL)\n",
    "# 显示图片\n",
    "cv2.imshow('image', image)\n",
    "# 监听窗口事件\n",
    "key = cv2.waitKey(0)\n",
    "if key == ord('q'):\n",
    "\t# 销毁窗口\n",
    "\tcv2.destroyAllWindows()\n",
    "\texit()"
   ]
  },
  {
   "attachments": {},
   "cell_type": "markdown",
   "metadata": {},
   "source": [
    "### 四、保存图片"
   ]
  },
  {
   "cell_type": "code",
   "execution_count": 3,
   "metadata": {},
   "outputs": [
    {
     "data": {
      "text/plain": [
       "True"
      ]
     },
     "execution_count": 3,
     "metadata": {},
     "output_type": "execute_result"
    }
   ],
   "source": [
    "import cv2\n",
    "\n",
    "# 读取图片，模式为灰度\n",
    "image = cv2.imread('/Users/h_vk/Downloads/cat.jpeg', cv2.IMREAD_GRAYSCALE)\n",
    "\n",
    "# 保存图片\n",
    "cv2.imwrite('/Users/h_vk/Downloads/cat_grayscale.jpeg', image)"
   ]
  },
  {
   "attachments": {},
   "cell_type": "markdown",
   "metadata": {},
   "source": [
    "### 五、采集摄像头数据"
   ]
  },
  {
   "cell_type": "code",
   "execution_count": 1,
   "metadata": {},
   "outputs": [
    {
     "ename": "",
     "evalue": "",
     "output_type": "error",
     "traceback": [
      "\u001b[1;31mThe Kernel crashed while executing code in the the current cell or a previous cell. Please review the code in the cell(s) to identify a possible cause of the failure. Click <a href='https://aka.ms/vscodeJupyterKernelCrash'>here</a> for more info. View Jupyter <a href='command:jupyter.viewOutput'>log</a> for further details."
     ]
    }
   ],
   "source": [
    "import cv2\n",
    "\n",
    "# 获取采集设备\n",
    "cap = cv2.VideoCapture(0)\n",
    "# 设置采集设备帧率\n",
    "cap.set(cv2.CAP_PROP_FPS, 30)\n",
    "\n",
    "# 创建窗口\n",
    "cv2.namedWindow('video', cv2.WINDOW_NORMAL)\n",
    "\n",
    "# 判断摄像头是否开启\n",
    "while cap.isOpened():\n",
    "\t# 读取每一帧数据\n",
    "\tfet, frame = cap.read()\n",
    "\t# 将每一帧数据显示在窗口\n",
    "\tcv2.imshow('video', frame)\n",
    "\t\n",
    "\tkey = cv2.waitKey(1)\n",
    "\tif key == ord('q'):\n",
    "\t\tbreak\n",
    "\n",
    "# 释放采集设备\n",
    "cap.release()\n",
    "# 销毁所有窗口\n",
    "cv2.destroyAllWindows()\n",
    "exit()"
   ]
  },
  {
   "attachments": {},
   "cell_type": "markdown",
   "metadata": {},
   "source": [
    "### 六、读取视频文件"
   ]
  },
  {
   "cell_type": "code",
   "execution_count": 3,
   "metadata": {},
   "outputs": [
    {
     "ename": "",
     "evalue": "",
     "output_type": "error",
     "traceback": [
      "\u001b[1;31mThe Kernel crashed while executing code in the the current cell or a previous cell. Please review the code in the cell(s) to identify a possible cause of the failure. Click <a href='https://aka.ms/vscodeJupyterKernelCrash'>here</a> for more info. View Jupyter <a href='command:jupyter.viewOutput'>log</a> for further details."
     ]
    }
   ],
   "source": [
    "import cv2\n",
    "\n",
    "# 获取采集设备\n",
    "cap = cv2.VideoCapture('/Users/h_vk/Downloads/test.mp4')\n",
    "\n",
    "# 创建窗口\n",
    "cv2.namedWindow('video', cv2.WINDOW_NORMAL)\n",
    "\n",
    "while True:\n",
    "\tfet, frame = cap.read()\n",
    "\tcv2.imshow('video', frame)\n",
    "\tkey = cv2.waitKey(1)\n",
    "\tif key == ord('q'):\n",
    "\t\tbreak\n",
    "\n",
    "# 释放 VideoCapture\n",
    "cap.release()\n",
    "cv2.destroyAllWindows()\n",
    "exit()\n"
   ]
  },
  {
   "attachments": {},
   "cell_type": "markdown",
   "metadata": {},
   "source": [
    "### 七、OpenCV TrackBar"
   ]
  },
  {
   "cell_type": "code",
   "execution_count": 1,
   "metadata": {},
   "outputs": [
    {
     "ename": "",
     "evalue": "",
     "output_type": "error",
     "traceback": [
      "\u001b[1;31mThe Kernel crashed while executing code in the the current cell or a previous cell. Please review the code in the cell(s) to identify a possible cause of the failure. Click <a href='https://aka.ms/vscodeJupyterKernelCrash'>here</a> for more info. View Jupyter <a href='command:jupyter.viewOutput'>log</a> for further details."
     ]
    },
    {
     "ename": "",
     "evalue": "",
     "output_type": "error",
     "traceback": [
      "\u001b[1;31mCanceled future for execute_request message before replies were done"
     ]
    }
   ],
   "source": [
    "import cv2\n",
    "import numpy as np\n",
    "\n",
    "cv2.namedWindow('trackBar', cv2.WINDOW_NORMAL)\n",
    "\n",
    "\n",
    "# 定义回调函数\n",
    "def callback():\n",
    "\tpass\n",
    "\n",
    "# 创建 TrackBar（trackbar名称，窗体名称，最小值，最大值，回调函数）\n",
    "cv2.createTrackbar('R', 'trackBar', 0, 255, callback)\n",
    "cv2.createTrackbar('G', 'trackBar', 0, 255, callback)\n",
    "cv2.createTrackbar('B', 'trackBar', 0, 255, callback)\n",
    "\n",
    "image = np.zeros((460, 680, 3), np.uint8)\n",
    "\n",
    "while True:\n",
    "\t# 获取 TrackBar 的值（trackbar名称，窗体名称）\n",
    "\tr = cv2.getTrackbarPos('R', 'trackBar')\n",
    "\tg = cv2.getTrackbarPos('g', 'trackBar')\n",
    "\tb = cv2.getTrackbarPos('b', 'trackBar')\n",
    "\n",
    "\t# image[:] = [g, b, r]\n",
    "\n",
    "\tcv2.imshow('trackBar', image)\n",
    "\tkey = cv2.waitKey(10)\n",
    "\tif key == ord('q'):\n",
    "\t\tbreak\n",
    "cv2.destroyAllWindows()\n",
    "exit()"
   ]
  },
  {
   "attachments": {},
   "cell_type": "markdown",
   "metadata": {},
   "source": [
    "### 八、OpenCV Mat\n",
    "\n",
    "Mat 属性\n",
    "- dims：维度\n",
    "- rows：行数\n",
    "- cols：列数\n",
    "- depth: 像素的位深\n",
    "- channels：通道数 RGB 是 3\n",
    "- size：矩阵大小\n",
    "- type：dep + dt + chs CV_8UC3\n",
    "- data：存放数据"
   ]
  },
  {
   "cell_type": "code",
   "execution_count": 1,
   "metadata": {},
   "outputs": [
    {
     "name": "stdout",
     "output_type": "stream",
     "text": [
      "(500, 500, 3)\n",
      "750000\n",
      "uint8\n"
     ]
    },
    {
     "ename": "",
     "evalue": "",
     "output_type": "error",
     "traceback": [
      "\u001b[1;31mThe Kernel crashed while executing code in the the current cell or a previous cell. Please review the code in the cell(s) to identify a possible cause of the failure. Click <a href='https://aka.ms/vscodeJupyterKernelCrash'>here</a> for more info. View Jupyter <a href='command:jupyter.viewOutput'>log</a> for further details."
     ]
    }
   ],
   "source": [
    "import cv2\n",
    "import numpy as np\n",
    "\n",
    "image = cv2.imread('/Users/h_vk/Downloads/cat.jpeg')\n",
    "\n",
    "# shape 属性包括三个信息、高度、宽度、通道数\n",
    "print(image.shape)\n",
    "\n",
    "# 图像占用多大空间 = 高度 * 宽度 * 通道数\n",
    "print(image.size)\n",
    "\n",
    "# 图像中每个元素的位深\n",
    "print(image.dtype)\n",
    "\n",
    "# 通道的分割与合并\n",
    "img = np.zeros((480, 640, 3), np.uint8)\n",
    "\n",
    "# 通道的分割\n",
    "b,g,r = cv2.split(img)\n",
    "\n",
    "b[10:100, 10:100] = 255\n",
    "g[10:100, 10:100] = 255\n",
    "\n",
    "# 通道合并\n",
    "image2 = cv2.merge((b, g, r))\n",
    "\n",
    "cv2.imshow('image', img)\n",
    "cv2.imshow('b', b)\n",
    "cv2.imshow('g', g)\n",
    "cv2.imshow('image2', image2)\n",
    "\n",
    "\n",
    "key = cv2.waitKey(0)\n",
    "if key == ord('q'):\n",
    "\tcv2.destroyAllWindows()\n",
    "\texit()\n"
   ]
  },
  {
   "attachments": {},
   "cell_type": "markdown",
   "metadata": {},
   "source": [
    "### 九、OpenCV 图形绘制"
   ]
  },
  {
   "cell_type": "code",
   "execution_count": null,
   "metadata": {},
   "outputs": [],
   "source": []
  },
  {
   "cell_type": "code",
   "execution_count": 1,
   "metadata": {},
   "outputs": [
    {
     "ename": "",
     "evalue": "",
     "output_type": "error",
     "traceback": [
      "\u001b[1;31mThe Kernel crashed while executing code in the the current cell or a previous cell. Please review the code in the cell(s) to identify a possible cause of the failure. Click <a href='https://aka.ms/vscodeJupyterKernelCrash'>here</a> for more info. View Jupyter <a href='command:jupyter.viewOutput'>log</a> for further details."
     ]
    }
   ],
   "source": [
    "import cv2\n",
    "import numpy as np\n",
    "\n",
    "image = np.zeros((480, 640, 3), np.uint8)\n",
    "\n",
    "# OpenCV 绘制线 line(img, 开始点，结束点，颜色，线宽，线)\n",
    "cv2.line(image, (10, 20), (300, 400), (0, 0, 255), 5)\n",
    "\n",
    "# OpenCV 绘制矩形 rectangle(img，开始点，结束点，颜色，线宽)\n",
    "cv2.rectangle(image, (10, 10), (100, 100), (255, 0, 0), 5)\n",
    "\n",
    "# OpenCV 绘制圆形 circle(img，中心点，半径，颜色，线宽)\n",
    "cv2.circle(image, (200, 200), 100, (0, 255, 0), 2)\n",
    "\n",
    "# OpenCV 绘制椭圆 ellipse(img，中心点，长宽的一半，角度，开始角度，结束角度，颜色)\n",
    "# 度是按顺时针计算的，0度是从左侧开始的\n",
    "cv2.ellipse(image, (300, 200), (100, 50), 0, 0, 360, (0, 255, 255))\n",
    "\n",
    "# OpenCV 绘制多边形 polylines(img，点集，是否闭环，颜色)\n",
    "pts = np.array([(300, 10), (150, 100), (450, 100)], np.int32)\n",
    "cv2.polylines(image, [pts], True, (255, 0, 255))\n",
    "\n",
    "# OpenCV 填充多边形 fillPoly(img，点集，颜色)\n",
    "cv2.fillPoly(image, [pts], (0, 0, 255))\n",
    "\n",
    "# OpenCV 绘制文字 putText(img，字符串，起始点，字体，字号，颜色)\n",
    "cv2.putText(image, 'Hello World', (30, 100), cv2.FONT_HERSHEY_PLAIN, 5, (255, 0, 0))\n",
    "\n",
    "cv2.imshow('draw', image)\n",
    "key = cv2.waitKey(0)\n",
    "if key == ord('q'):\n",
    "\tcv2.destroyAllWindows()\n",
    "\texit()"
   ]
  }
 ],
 "metadata": {
  "kernelspec": {
   "display_name": "pytorch",
   "language": "python",
   "name": "python3"
  },
  "language_info": {
   "codemirror_mode": {
    "name": "ipython",
    "version": 3
   },
   "file_extension": ".py",
   "mimetype": "text/x-python",
   "name": "python",
   "nbconvert_exporter": "python",
   "pygments_lexer": "ipython3",
   "version": "3.9.13"
  },
  "orig_nbformat": 4,
  "vscode": {
   "interpreter": {
    "hash": "0b5c9008cc28d0f4f547c14d26d01b3e8a0910744f49805b01893aeb4faad4cb"
   }
  }
 },
 "nbformat": 4,
 "nbformat_minor": 2
}
