{
 "cells": [
  {
   "cell_type": "markdown",
   "metadata": {},
   "source": [
    "### NumPy 数组对象\n",
    "\n",
    "NumPy 中的 ndarray 是一个多维数组对象，该对象由两部分组成：\n",
    "\n",
    "- 实际的数据；\n",
    "- 描述这些数据的元数据；\n",
    "\n",
    "大部分数据操作只修改元数据部分呢，而不改变底层的实际数据。 ndarray 中的数据类型都是同一数据类型。"
   ]
  },
  {
   "cell_type": "code",
   "execution_count": 51,
   "metadata": {},
   "outputs": [
    {
     "name": "stdout",
     "output_type": "stream",
     "text": [
      "[0 1 2 3 4 5]\n",
      "------------------\n",
      "[10 15 20 25]\n",
      "------------------\n",
      "[ 5 10 15 20]\n",
      "------------------\n",
      "[[ 5 10 15]\n",
      " [20 25 30]\n",
      " [35 40 45]]\n",
      "------------------\n",
      "[[1. 0. 0. 0. 0.]\n",
      " [0. 1. 0. 0. 0.]\n",
      " [0. 0. 1. 0. 0.]\n",
      " [0. 0. 0. 1. 0.]\n",
      " [0. 0. 0. 0. 1.]]\n",
      "------------------\n",
      "[[0. 0. 0. 0. 0.]\n",
      " [0. 0. 0. 0. 0.]\n",
      " [0. 0. 0. 0. 0.]]\n",
      "------------------\n",
      "[['1' '1' '1' '1' '1']\n",
      " ['1' '1' '1' '1' '1']\n",
      " ['1' '1' '1' '1' '1']]\n"
     ]
    }
   ],
   "source": [
    "import numpy as np\n",
    "\n",
    "# 通过 arange 创建指定长度数组\n",
    "arange = np.arange(6)\n",
    "print(arange)\n",
    "\n",
    "print('------------------')\n",
    "\n",
    "# arange(起始值， 终止值， 递增值) \n",
    "print(np.arange(10, 30, 5))\n",
    "\n",
    "print('------------------')\n",
    "\n",
    "# 创建一个向量\n",
    "vector = np.array([5, 10, 15, 20])\n",
    "print(vector)\n",
    "\n",
    "print('------------------')\n",
    "\n",
    "# 创建一个矩阵\n",
    "matrix = np.array([ [5, 10, 15], [20, 25, 30], [35, 40, 45] ])\n",
    "print(matrix)\n",
    "\n",
    "print('------------------')\n",
    "\n",
    "# 单位矩阵，即主对角线上的元素均为 1，其余元素均为 0 的正方形矩阵\n",
    "eye = np.eye(5)\n",
    "print(eye)\n",
    "\n",
    "print('------------------')\n",
    "\n",
    "#  创建元素值为 0 的数组\n",
    "zero_arr = np.zeros((3, 5))\n",
    "print(zero_arr)\n",
    "\n",
    "print('------------------')\n",
    "\n",
    "#  创建元素值为 1 的数组，dtype 设置元素的类型 \n",
    "one_arr = np.ones((3,5), dtype=str)\n",
    "print(one_arr)\n",
    "\n",
    "\n",
    "\n"
   ]
  },
  {
   "cell_type": "code",
   "execution_count": 45,
   "metadata": {},
   "outputs": [
    {
     "name": "stdout",
     "output_type": "stream",
     "text": [
      "(4,)\n",
      "(3, 3)\n",
      "1\n",
      "2\n"
     ]
    }
   ],
   "source": [
    "# 查看数组的维度，返回一个 Tuple 数据类型\n",
    "print(vector.shape)\n",
    "print(matrix.shape)\n",
    "\n",
    "# 查看数组维度\n",
    "print(vector.ndim)\n",
    "print(matrix.ndim)"
   ]
  },
  {
   "cell_type": "code",
   "execution_count": null,
   "metadata": {},
   "outputs": [],
   "source": [
    "# 获取数组中的元素，下标是从 0 开始的\n",
    "print(vector[0])\n",
    "print(matrix[0, 1]) # 多维数组下指定 第二维度的下标，也是从 0 开始的"
   ]
  },
  {
   "cell_type": "code",
   "execution_count": null,
   "metadata": {},
   "outputs": [],
   "source": [
    "# 范围取值\n",
    "print(vector[:3]) # 取 vector 数组的前 3 个元素\n",
    "print(matrix[:,1]) # 取 matrix 多维数组中的 下标为 1 的元素\n",
    "print(matrix[:,0:2]) # 取 matrix 多维数组中的 下标范围 0~2，不包含 2"
   ]
  },
  {
   "cell_type": "code",
   "execution_count": null,
   "metadata": {},
   "outputs": [],
   "source": [
    "# 数据类型\n",
    "print(vector.dtype)\n",
    "print(matrix.dtype)"
   ]
  },
  {
   "cell_type": "code",
   "execution_count": null,
   "metadata": {},
   "outputs": [],
   "source": [
    "# 元素判断，判断数组中的元素是否等于判断值，等于返回 True, 否则返回 False 的数组\n",
    "print(vector == 10)\n",
    "print(matrix == 10)"
   ]
  },
  {
   "cell_type": "code",
   "execution_count": null,
   "metadata": {},
   "outputs": [],
   "source": [
    "# 元素判断， & 和 |\n",
    "print( (vector == 10) & (vector == 5) )\n",
    "print( (matrix == 10) & (matrix == 5) )\n",
    "\n",
    "print( (vector == 10) | (vector == 5) )\n",
    "print( (matrix == 10) | (matrix == 5) )"
   ]
  },
  {
   "cell_type": "code",
   "execution_count": 39,
   "metadata": {},
   "outputs": [
    {
     "name": "stdout",
     "output_type": "stream",
     "text": [
      "['5' '10' '15' '20']\n",
      "<U21\n"
     ]
    }
   ],
   "source": [
    "# 类型转换\n",
    "str_data = vector.astype(str)\n",
    "print(str_data)\n",
    "print(str_data.dtype)"
   ]
  },
  {
   "cell_type": "code",
   "execution_count": 43,
   "metadata": {},
   "outputs": [
    {
     "name": "stdout",
     "output_type": "stream",
     "text": [
      "50\n",
      "[ 30  75 120]\n",
      "[60 75 90]\n"
     ]
    }
   ],
   "source": [
    "# 数组求和\n",
    "print(vector.sum())\n",
    "\n",
    "# 多维数组按行求和，axis 表示维度\n",
    "print(matrix.sum(axis=1)) \n",
    "\n",
    "# 多维数组按列求和\n",
    "print(matrix.sum(axis=0))"
   ]
  },
  {
   "cell_type": "code",
   "execution_count": 44,
   "metadata": {},
   "outputs": [
    {
     "name": "stdout",
     "output_type": "stream",
     "text": [
      "[ 0  1  2  3  4  5  6  7  8  9 10 11 12 13 14]\n",
      "[[ 0  1  2  3  4]\n",
      " [ 5  6  7  8  9]\n",
      " [10 11 12 13 14]]\n"
     ]
    }
   ],
   "source": [
    "array = np.arange(15)\n",
    "print(array)\n",
    "\n",
    "# 将数组转换为 3行 5列的矩阵\n",
    "print(array.reshape(3, 5))"
   ]
  },
  {
   "cell_type": "markdown",
   "metadata": {},
   "source": [
    "### NumPy 读写文件"
   ]
  },
  {
   "cell_type": "code",
   "execution_count": null,
   "metadata": {},
   "outputs": [],
   "source": [
    "import numpy as np\n",
    "\n",
    "# 单位矩阵，即主对角线上的元素均为 1，其余元素均为 0 的正方形矩阵\n",
    "t1 = np.eye(2)\n",
    "print(t1)\n",
    "\n",
    "# 使用 savetxt 函数将数据存储到文件中\n",
    "np.savetxt('test.txt', t1)\n",
    "\n",
    "# 加载文件 ( 文件名称, delimiter='分隔符', usecols= (分割的字符串的取值范围，(6,7) 即6-7段的值), unpack=是否将读取的数据进行分拆)\n",
    "c,v = np.loadtxt('data.txt', delimiter=',', usecols=(6,7), unpack=True)\n",
    "print(c, v)\n",
    "\n",
    "# 使用 genfromtxt 读取文件 (文件名称，delimiter='分隔符', dtype=读取数据的类型， skip_header=指定跳过表头)\n",
    "data = np.genfromtxt('data.txt', delimiter=',', dtype=str)\n",
    "print(data)\n",
    "\n",
    "\n",
    "# 计算平均价格 VWAP 为成交量加权平均价格，代表金融资产的 平均 价格，某个价格的成交量越高，该价格所占的权重就越大\n",
    "vwap = np.average(c, weights = v)\n",
    "print('vwap => ', vwap)"
   ]
  },
  {
   "cell_type": "markdown",
   "metadata": {},
   "source": [
    "### NumPy 常用函数"
   ]
  },
  {
   "cell_type": "code",
   "execution_count": 54,
   "metadata": {},
   "outputs": [
    {
     "data": {
      "text/plain": [
       "array([[0.67850622, 0.13200815, 0.09733125],\n",
       "       [0.31508312, 0.48313031, 0.54604556]])"
      ]
     },
     "execution_count": 54,
     "metadata": {},
     "output_type": "execute_result"
    }
   ],
   "source": [
    "# 随机矩阵\n",
    "np.random.random((2, 3))"
   ]
  },
  {
   "cell_type": "code",
   "execution_count": 53,
   "metadata": {},
   "outputs": [
    {
     "data": {
      "text/plain": [
       "array([0.        , 0.06346652, 0.12693304, 0.19039955, 0.25386607,\n",
       "       0.31733259, 0.38079911, 0.44426563, 0.50773215, 0.57119866,\n",
       "       0.63466518, 0.6981317 , 0.76159822, 0.82506474, 0.88853126,\n",
       "       0.95199777, 1.01546429, 1.07893081, 1.14239733, 1.20586385,\n",
       "       1.26933037, 1.33279688, 1.3962634 , 1.45972992, 1.52319644,\n",
       "       1.58666296, 1.65012947, 1.71359599, 1.77706251, 1.84052903,\n",
       "       1.90399555, 1.96746207, 2.03092858, 2.0943951 , 2.15786162,\n",
       "       2.22132814, 2.28479466, 2.34826118, 2.41172769, 2.47519421,\n",
       "       2.53866073, 2.60212725, 2.66559377, 2.72906028, 2.7925268 ,\n",
       "       2.85599332, 2.91945984, 2.98292636, 3.04639288, 3.10985939,\n",
       "       3.17332591, 3.23679243, 3.30025895, 3.36372547, 3.42719199,\n",
       "       3.4906585 , 3.55412502, 3.61759154, 3.68105806, 3.74452458,\n",
       "       3.8079911 , 3.87145761, 3.93492413, 3.99839065, 4.06185717,\n",
       "       4.12532369, 4.1887902 , 4.25225672, 4.31572324, 4.37918976,\n",
       "       4.44265628, 4.5061228 , 4.56958931, 4.63305583, 4.69652235,\n",
       "       4.75998887, 4.82345539, 4.88692191, 4.95038842, 5.01385494,\n",
       "       5.07732146, 5.14078798, 5.2042545 , 5.26772102, 5.33118753,\n",
       "       5.39465405, 5.45812057, 5.52158709, 5.58505361, 5.64852012,\n",
       "       5.71198664, 5.77545316, 5.83891968, 5.9023862 , 5.96585272,\n",
       "       6.02931923, 6.09278575, 6.15625227, 6.21971879, 6.28318531])"
      ]
     },
     "execution_count": 53,
     "metadata": {},
     "output_type": "execute_result"
    }
   ],
   "source": [
    "# 生成指定范围数值的数组，(起始值，终止值，数据长度)\n",
    "np.linspace(0, 2 * np.pi, 100)"
   ]
  },
  {
   "cell_type": "code",
   "execution_count": 62,
   "metadata": {},
   "outputs": [
    {
     "name": "stdout",
     "output_type": "stream",
     "text": [
      "[11 12 13 14]\n",
      "[-9 -8 -7 -6]\n",
      "[10 20 30 40]\n",
      "[0.1 0.2 0.3 0.4]\n"
     ]
    }
   ],
   "source": [
    "# 数值计算操作，两个数组对应位置的元素进行数值操作\n",
    "one_arr = np.array([1, 2, 3, 4])\n",
    "two_arr = np.array([10])\n",
    "\n",
    "#  加法操作\n",
    "print(one_arr + two_arr)\n",
    "\n",
    "# 减法操作\n",
    "print(one_arr - two_arr)\n",
    "\n",
    "# 相乘操作\n",
    "print(one_arr * two_arr)\n",
    "\n",
    "# 除法操作\n",
    "print(one_arr / two_arr)\n"
   ]
  },
  {
   "cell_type": "code",
   "execution_count": 8,
   "metadata": {},
   "outputs": [
    {
     "name": "stdout",
     "output_type": "stream",
     "text": [
      "[0 1 2 3 4 5]\n",
      "clip -> [1 1 2 2 2 2]\n",
      "compress -> [2 3 4 5]\n"
     ]
    }
   ],
   "source": [
    "data = np.arange(6)\n",
    "print(data)\n",
    "# 数组的裁剪和压缩\n",
    "\n",
    "## clip 方法将数组中的比最小值还小的元素设为最小值，将比最大值还大的元素设置为最大值\n",
    "print(f'clip -> { data.clip(1, 2)}')\n",
    "\n",
    "## compress 返回条件筛选后的数组\n",
    "print(f'compress -> { data.compress( data >= 2) }')"
   ]
  },
  {
   "cell_type": "code",
   "execution_count": 10,
   "metadata": {},
   "outputs": [
    {
     "name": "stdout",
     "output_type": "stream",
     "text": [
      "[1 2 3 4 5 6 7 8]\n",
      "prod -> 40320\n",
      "cumprod -> [    1     2     6    24   120   720  5040 40320]\n"
     ]
    }
   ],
   "source": [
    "# 计算定义的数组的乘阶段\n",
    "data = np.arange(1, 9)\n",
    "print(data)\n",
    "print(f'prod -> { data.prod() }')\n",
    "\n",
    "# 计算数组元素的累积乘积\n",
    "print(f'cumprod -> {data.cumprod()}')"
   ]
  }
 ],
 "metadata": {
  "kernelspec": {
   "display_name": "Python 3.9.13 ('pytorch')",
   "language": "python",
   "name": "python3"
  },
  "language_info": {
   "codemirror_mode": {
    "name": "ipython",
    "version": 3
   },
   "file_extension": ".py",
   "mimetype": "text/x-python",
   "name": "python",
   "nbconvert_exporter": "python",
   "pygments_lexer": "ipython3",
   "version": "3.9.13"
  },
  "orig_nbformat": 4,
  "vscode": {
   "interpreter": {
    "hash": "0b5c9008cc28d0f4f547c14d26d01b3e8a0910744f49805b01893aeb4faad4cb"
   }
  }
 },
 "nbformat": 4,
 "nbformat_minor": 2
}
