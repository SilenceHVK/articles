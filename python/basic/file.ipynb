{
 "cells": [
  {
   "cell_type": "code",
   "execution_count": 24,
   "metadata": {},
   "outputs": [
    {
     "ename": "FileNotFoundError",
     "evalue": "[Errno 2] No such file or directory: 'test.txt'",
     "output_type": "error",
     "traceback": [
      "\u001b[0;31m---------------------------------------------------------------------------\u001b[0m",
      "\u001b[0;31mFileNotFoundError\u001b[0m                         Traceback (most recent call last)",
      "\u001b[1;32m/Users/h_vk/Documents/Blog/python/file.ipynb Cell 1'\u001b[0m in \u001b[0;36m<cell line: 12>\u001b[0;34m()\u001b[0m\n\u001b[1;32m     <a href='vscode-notebook-cell:/Users/h_vk/Documents/Blog/python/file.ipynb#ch0000002?line=10'>11</a>\u001b[0m f \u001b[39m=\u001b[39m \u001b[39mNone\u001b[39;00m\n\u001b[1;32m     <a href='vscode-notebook-cell:/Users/h_vk/Documents/Blog/python/file.ipynb#ch0000002?line=11'>12</a>\u001b[0m \u001b[39mtry\u001b[39;00m:\n\u001b[0;32m---> <a href='vscode-notebook-cell:/Users/h_vk/Documents/Blog/python/file.ipynb#ch0000002?line=12'>13</a>\u001b[0m \tf \u001b[39m=\u001b[39m \u001b[39mopen\u001b[39;49m(\u001b[39m'\u001b[39;49m\u001b[39mtest.txt\u001b[39;49m\u001b[39m'\u001b[39;49m, \u001b[39m'\u001b[39;49m\u001b[39mr+\u001b[39;49m\u001b[39m'\u001b[39;49m)\n\u001b[1;32m     <a href='vscode-notebook-cell:/Users/h_vk/Documents/Blog/python/file.ipynb#ch0000002?line=13'>14</a>\u001b[0m \tcontent \u001b[39m=\u001b[39m f\u001b[39m.\u001b[39mreadline()\n\u001b[1;32m     <a href='vscode-notebook-cell:/Users/h_vk/Documents/Blog/python/file.ipynb#ch0000002?line=14'>15</a>\u001b[0m \t\u001b[39mprint\u001b[39m(\u001b[39m'\u001b[39m\u001b[39m文件内容 => \u001b[39m\u001b[39m'\u001b[39m\u001b[39m+\u001b[39m content)\n",
      "\u001b[0;31mFileNotFoundError\u001b[0m: [Errno 2] No such file or directory: 'test.txt'"
     ]
    }
   ],
   "source": [
    "## 打开文件 open( file表示要打开的文件路径， mode 文件打开模式, encoding 文件编码, errors 发生编码错误时如何处理)\n",
    "## mode 值:\n",
    "## t: 以文本文件模式打开\n",
    "## b: 以二进制文件模式打开\n",
    "## r: 以只读模式打开\n",
    "## w: 以只写模式打开，不存在则创建，存在则覆盖\n",
    "## x: 以独占创建模式打开，如果不存在则创建并以写入模式打开，如果存在则抛出 FileExistsError 异常\n",
    "## a: 已追加模式打开，不存在则创建，存在则文末追加\n",
    "## +: 以更新（读写）模式打开，必须与 r、w 或 a 组合使用\n",
    "\n",
    "f = None\n",
    "try:\n",
    "\tf = open('test.txt', 'r+')\n",
    "\tcontent = f.readline()\n",
    "\tprint('文件内容 => '+ content)\n",
    "finally:\n",
    "\tif f is not None:\n",
    "\t\tf.close()\n",
    "\t\tprint('关闭文件成功.')\n",
    "\n",
    "\n",
    "with open('test.txt', 'r+') as f :\n",
    "\tcontent = f.readline()\n",
    "\tprint('文件内容 => '+ content)\n",
    "\n",
    "\n",
    "## 拷贝文件内容\n",
    "with open('test.txt', 'r') as f :\n",
    "\tcontent = f.readlines()\n",
    "\twith open('text_copy.txt', 'w') as copyFile :\n",
    "\t\tcopyFile.writelines(content)\n",
    "\t\tprint('文件拷贝完成')"
   ]
  },
  {
   "cell_type": "code",
   "execution_count": 23,
   "metadata": {},
   "outputs": [],
   "source": [
    "img = r'/Users/h_vk/Downloads/cat.jpeg'\n",
    "with open(img, 'br') as f :\n",
    "\tcontent = f.readlines()\n",
    "\twith open('cat.jpeg', 'bw') as copyfile :\n",
    "\t\tcopyfile.writelines(content)\n",
    "\t\t\n",
    "\t"
   ]
  }
 ],
 "metadata": {
  "kernelspec": {
   "display_name": "Python 3.8.9 ('.venv': venv)",
   "language": "python",
   "name": "python3"
  },
  "language_info": {
   "codemirror_mode": {
    "name": "ipython",
    "version": 3
   },
   "file_extension": ".py",
   "mimetype": "text/x-python",
   "name": "python",
   "nbconvert_exporter": "python",
   "pygments_lexer": "ipython3",
   "version": "3.8.9"
  },
  "orig_nbformat": 4,
  "vscode": {
   "interpreter": {
    "hash": "e1d30e79187653a64ff09eab781a151550c58b898f76aa0dc1787cd16f8572d8"
   }
  }
 },
 "nbformat": 4,
 "nbformat_minor": 2
}
