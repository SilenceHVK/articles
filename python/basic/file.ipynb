{
 "cells": [
  {
   "cell_type": "code",
   "execution_count": 10,
   "metadata": {},
   "outputs": [
    {
     "name": "stdout",
     "output_type": "stream",
     "text": [
      "拷贝文件完成\n",
      "文件关闭\n"
     ]
    }
   ],
   "source": [
    "## 打开文件 open( file表示要打开的文件路径， mode 文件打开模式, encoding 文件编码, errors 发生编码错误时如何处理)\n",
    "## mode 值:\n",
    "## t: 以文本文件模式打开\n",
    "## b: 以二进制文件模式打开\n",
    "## r: 以只读模式打开\n",
    "## w: 以只写模式打开，不存在则创建，存在则覆盖\n",
    "## x: 以独占创建模式打开，如果不存在则创建并以写入模式打开，如果存在则抛出 FileExistsError 异常\n",
    "## a: 已追加模式打开，不存在则创建，存在则文末追加\n",
    "## +: 以更新（读写）模式打开，必须与 r、w 或 a 组合使用\n",
    "import pathlib\n",
    "\n",
    "f = None\n",
    "file_path = r'test.txt'\n",
    "file = pathlib.Path(file_path)\n",
    "\n",
    "try:\n",
    "\tif file.exists():\n",
    "\t\tf = open(file_path, 'r+')\n",
    "\t\twith open('test-copy.txt', 'w+') as copy_file:\n",
    "\t\t\tcopy_file.writelines(f.readline())\n",
    "\t\t\tprint('拷贝文件完成')\n",
    "\telse:\n",
    "\t\tf = open(file_path, 'w+')\n",
    "\t\tf.writelines('Hello World')\n",
    "\t\tprint('写入文件完成')\n",
    "finally:\n",
    "\tif f is not None:\n",
    "\t\tf.close()\n",
    "\t\tprint('文件关闭')"
   ]
  },
  {
   "cell_type": "code",
   "execution_count": 23,
   "metadata": {},
   "outputs": [],
   "source": [
    "img = r'/Users/h_vk/Downloads/cat.jpeg'\n",
    "with open(img, 'br') as f :\n",
    "\tcontent = f.readlines()\n",
    "\twith open('cat.jpeg', 'bw') as copyfile :\n",
    "\t\tcopyfile.writelines(content)"
   ]
  }
 ],
 "metadata": {
  "kernelspec": {
   "display_name": "Python 3.9.13 ('pytorch')",
   "language": "python",
   "name": "python3"
  },
  "language_info": {
   "codemirror_mode": {
    "name": "ipython",
    "version": 3
   },
   "file_extension": ".py",
   "mimetype": "text/x-python",
   "name": "python",
   "nbconvert_exporter": "python",
   "pygments_lexer": "ipython3",
   "version": "3.9.13"
  },
  "orig_nbformat": 4,
  "vscode": {
   "interpreter": {
    "hash": "0b5c9008cc28d0f4f547c14d26d01b3e8a0910744f49805b01893aeb4faad4cb"
   }
  }
 },
 "nbformat": 4,
 "nbformat_minor": 2
}
