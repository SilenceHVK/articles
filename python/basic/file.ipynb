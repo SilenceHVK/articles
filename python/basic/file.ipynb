{
 "cells": [
  {
   "cell_type": "markdown",
   "metadata": {},
   "source": [
    "### Python 文件基础操作"
   ]
  },
  {
   "cell_type": "code",
   "execution_count": null,
   "metadata": {},
   "outputs": [],
   "source": [
    "## 打开文件 open( file表示要打开的文件路径， mode 文件打开模式, encoding 文件编码, errors 发生编码错误时如何处理)\n",
    "## mode 值:\n",
    "## t: 以文本文件模式打开\n",
    "## b: 以二进制文件模式打开\n",
    "## r: 以只读模式打开\n",
    "## w: 以只写模式打开，不存在则创建，存在则覆盖\n",
    "## x: 以独占创建模式打开，如果不存在则创建并以写入模式打开，如果存在则抛出 FileExistsError 异常\n",
    "## a: 已追加模式打开，不存在则创建，存在则文末追加\n",
    "## +: 以更新（读写）模式打开，必须与 r、w 或 a 组合使用\n",
    "import pathlib\n",
    "\n",
    "f = None\n",
    "file_path = r'test.txt'\n",
    "file = pathlib.Path(file_path)\n",
    "\n",
    "try:\n",
    "\tif file.exists():\n",
    "\t\tf = open(file_path, 'r+')\n",
    "\t\twith open('test-copy.txt', 'w+') as copy_file:\n",
    "\t\t\tcopy_file.writelines(f.readline())\n",
    "\t\t\tprint('拷贝文件完成')\n",
    "\telse:\n",
    "\t\tf = open(file_path, 'w+')\n",
    "\t\tf.writelines('Hello World')\n",
    "\t\tprint('写入文件完成')\n",
    "finally:\n",
    "\tif f is not None:\n",
    "\t\tf.close()\n",
    "\t\tprint('文件关闭')"
   ]
  },
  {
   "cell_type": "markdown",
   "metadata": {},
   "source": [
    "### 拷贝图片文件"
   ]
  },
  {
   "cell_type": "code",
   "execution_count": null,
   "metadata": {},
   "outputs": [],
   "source": [
    "img = r'/Users/h_vk/Downloads/cat.jpeg'\n",
    "with open(img, 'br') as f :\n",
    "\tcontent = f.readlines()\n",
    "\twith open('cat.jpeg', 'bw') as copyfile :\n",
    "\t\tcopyfile.writelines(content)"
   ]
  },
  {
   "cell_type": "markdown",
   "metadata": {},
   "source": [
    "### 下载网络图片"
   ]
  },
  {
   "cell_type": "code",
   "execution_count": null,
   "metadata": {},
   "outputs": [],
   "source": [
    "import requests\n",
    "cat_url = 'https://img.zcool.cn/community/013a195ce76af9a8012141682319a0.jpg@1280w_1l_2o_100sh.jpg'\n",
    "\n",
    "## 下载网络图片\n",
    "web = requests.get(cat_url)\n",
    "with open('cat.jpg', 'wb') as f:\n",
    "\tf.write(web.content)\n",
    "\n",
    "## 以流的方式下载图片\n",
    "web_stream = requests.get(cat_url, stream=True)\n",
    "with open('cat-stream.jpg', 'wb') as f:\n",
    "\tfor chunk in web_stream.iter_content(chunk_size=32):\n",
    "\t\tf.write(chunk)"
   ]
  },
  {
   "cell_type": "markdown",
   "metadata": {},
   "source": [
    "### Excel 创建"
   ]
  },
  {
   "cell_type": "code",
   "execution_count": null,
   "metadata": {},
   "outputs": [],
   "source": [
    "# !pip3 install xlwt\n",
    "\n",
    "import xlwt\n",
    "\n",
    "students = [{'name' : 'H_VK', 'age': 18, 'sex': '男' }, {'name' : '张三', 'age': 20, 'sex': '女' }]\n",
    "\n",
    "# 创建 Excel\n",
    "wb = xlwt.Workbook()\n",
    "# 创建 Sheet\n",
    "sheet = wb.add_sheet('学生信息')\n",
    "\n",
    "# 向单元格中写入数据，坐标以 0,0 开始\n",
    "sheet.write(0, 0, '姓名')\n",
    "sheet.write(0, 1, '年龄')\n",
    "sheet.write(0, 2, '性别')\n",
    "\n",
    "for i in range(0, len(students)):\n",
    "\tstu = students[i]\n",
    "\tsheet.write(i + 1, 0, stu['name'])\n",
    "\tsheet.write(i + 1, 1, stu['age'])\n",
    "\tsheet.write(i + 1, 2, stu['sex'])\n",
    "\n",
    "# 保存 Excel 文件\n",
    "wb.save('excel.xls')\n"
   ]
  },
  {
   "cell_type": "markdown",
   "metadata": {},
   "source": [
    "### Excel 读取"
   ]
  },
  {
   "cell_type": "code",
   "execution_count": null,
   "metadata": {},
   "outputs": [],
   "source": [
    "# !pip3 install xlrd\n",
    "\n",
    "import xlrd\n",
    "\n",
    "# 打开 Excel \n",
    "wb = xlrd.open_workbook('excel.xls')\n",
    "\n",
    "# 输出 Sheet 个数\n",
    "print('当前 Excel 共有 %s 个 Sheet'%wb.nsheets)\n",
    "\n",
    "# 输出 Sheet 的名称\n",
    "print(f'Sheet 有 {wb.sheet_names()}')\n",
    "\n",
    "# 根据下标获取 Sheet\n",
    "sheet_index = wb.sheet_by_index(0)\n",
    "# 根据名称获取 Sheet\n",
    "sheet_name = wb.sheet_by_name('学生信息')\n",
    "\n",
    "# 获取 Sheet 行列数\n",
    "print(f' Sheet 有 {sheet_index.nrows} 行, 有 {sheet_name.ncols} 列')\n",
    "\n",
    "# 通过行获取值\n",
    "print(sheet_index.row_values(0))\n",
    "print(sheet_index.row_values(1))\n",
    "\n",
    "# 通过列获取值\n",
    "print(sheet_name.col_values(0))\n",
    "print(sheet_name.col_values(1))\n",
    "\n",
    "# 获取单个单元格的值，下表从 0,0 开始\n",
    "print(sheet_index.cell_value(1, 0))\n",
    "\n",
    "# 遍历所有 sheet\n",
    "for row in range(sheet_index.nrows):\n",
    "\tfor col in range(sheet_name.ncols):\n",
    "\t\tprint(sheet_index.cell_value(row, col))"
   ]
  },
  {
   "cell_type": "markdown",
   "metadata": {},
   "source": [
    "### Excel 数据更新"
   ]
  },
  {
   "cell_type": "code",
   "execution_count": 4,
   "metadata": {},
   "outputs": [],
   "source": [
    "# !pip3 install xlutils\n",
    "\n",
    "import xlrd\n",
    "from xlutils.copy import copy\n",
    "\n",
    "# 打开 Excel \n",
    "wb = xlrd.open_workbook('excel.xls')\n",
    "\n",
    "# 拷贝一份 Excel\n",
    "cwb = copy(wb)\n",
    "\n",
    "# 获取 Sheet\n",
    "sheet = cwb.get_sheet(0)\n",
    "\n",
    "# 写入数据\n",
    "sheet.write(1, 0, 'Golang')\n",
    "\n",
    "# 建立新的 Sheet\n",
    "sheet2 = cwb.add_sheet('图书数据')\n",
    "sheet2.write(0, 0, '图书名称')\n",
    "sheet2.write(0, 1, '价格')\n",
    "\n",
    "# 保存更改的 Excel\n",
    "cwb.save('excel-copy.xls')\n",
    "\n",
    "\n"
   ]
  },
  {
   "cell_type": "markdown",
   "metadata": {},
   "source": [
    "### Excel 样式设置"
   ]
  },
  {
   "cell_type": "code",
   "execution_count": 11,
   "metadata": {},
   "outputs": [],
   "source": [
    "from tkinter import font\n",
    "import xlwt\n",
    "\n",
    "wb = xlwt.Workbook()\n",
    "\n",
    "# 指定 Excel 字体设置\n",
    "ft = xlwt.Font()\n",
    "ft.name = '宋体' \t\t # 字体名称\n",
    "ft.colour_index = 2 # 字体颜色\n",
    "ft.height = 20 * 18 # 字体大小\n",
    "ft.bold = True \t    # 字体加粗\n",
    "ft.italic = True    # 字体是否斜体\n",
    "ft.underline = True # 下划线\n",
    "\n",
    "# 指定 Excel 对齐方式\n",
    "alignment = xlwt.Alignment()\n",
    "# 1 左对齐、 2 居中、 3 右对齐\n",
    "alignment.horz = 1\n",
    "# 1 上对齐、 2 居中、 3 下对齐\n",
    "alignment.vert = 2\n",
    "# 自动换行\n",
    "alignment.wrap = 1\n",
    "\n",
    "# 创建 Style \n",
    "style = xlwt.XFStyle()\n",
    "style.font = ft\n",
    "style.alignment = alignment\n",
    "\n",
    "\n",
    "sheet = wb.add_sheet('info')\n",
    "sheet.write(0, 0 , '测试数据', style= style)\n",
    "sheet.write(1, 0 , 'Python 基础教程 Python 是一种解释型、面向对象、动态数据类型的高级程序设计语言。 Python 由 Guido van Rossum 于 1989 年底发明，第一个公开发行版发行于 1991 年。', style= style)\n",
    "\n",
    "wb.save('excel.xls')"
   ]
  }
 ],
 "metadata": {
  "kernelspec": {
   "display_name": "Python 3.9.13 ('pytorch')",
   "language": "python",
   "name": "python3"
  },
  "language_info": {
   "codemirror_mode": {
    "name": "ipython",
    "version": 3
   },
   "file_extension": ".py",
   "mimetype": "text/x-python",
   "name": "python",
   "nbconvert_exporter": "python",
   "pygments_lexer": "ipython3",
   "version": "3.9.13"
  },
  "orig_nbformat": 4,
  "vscode": {
   "interpreter": {
    "hash": "0b5c9008cc28d0f4f547c14d26d01b3e8a0910744f49805b01893aeb4faad4cb"
   }
  }
 },
 "nbformat": 4,
 "nbformat_minor": 2
}
