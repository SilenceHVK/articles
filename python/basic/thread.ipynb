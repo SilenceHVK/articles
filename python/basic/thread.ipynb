{
 "cells": [
  {
   "cell_type": "code",
   "execution_count": 4,
   "metadata": {},
   "outputs": [
    {
     "name": "stdout",
     "output_type": "stream",
     "text": [
      "当前线程名称 => MainThread\n",
      "当前活动线程数量 =>  8\n",
      "主线程名称 => MainThread\n"
     ]
    }
   ],
   "source": [
    "## threading 模块多线程 API，Thread 是线程类，提供了线程相关函数\n",
    "## active_count(): 当前处于活动状态的线程个数\n",
    "## current_thread(): 返回当前线程对象\n",
    "## main_thread(): 返回主线程对象，主线程对象是由 Python 解释器提供的线程\n",
    "\n",
    "import threading\n",
    "\n",
    "current_thread = threading.current_thread()\n",
    "print('当前线程名称 => ' + current_thread.getName())\n",
    "\n",
    "activeCount = threading.active_count()\n",
    "print('当前活动线程数量 => ', activeCount)\n",
    "\n",
    "mainThread = threading.main_thread()\n",
    "print('主线程名称 => ' + mainThread.getName())\n"
   ]
  },
  {
   "cell_type": "code",
   "execution_count": 14,
   "metadata": {},
   "outputs": [
    {
     "name": "stdout",
     "output_type": "stream",
     "text": [
      "线程 MainThread 执行完成\n",
      "\n"
     ]
    },
    {
     "name": "stdout",
     "output_type": "stream",
     "text": [
      "线程: 线程1 执行完成\n"
     ]
    }
   ],
   "source": [
    "\n",
    "import threading\n",
    "import time\n",
    "\n",
    "## 线程体：线程体是子线程要执行的代码\n",
    "def thread_body():\n",
    "\tt = threading.current_thread()\n",
    "\ttime.sleep(2)\n",
    "\tprint('线程: {0} 执行完成'.format(t.getName()))\n",
    "\n",
    "## 线程对象：线程对象是 threading 模块的线程类 Thread 或 Thread 子类所创建的对象\n",
    "t1 = threading.Thread(target=thread_body, name=\"线程1\")\n",
    "## 启动线程\n",
    "t1.start()\n",
    "\n",
    "print('线程 {0} 执行完成\\n'.format(threading.current_thread().getName()))"
   ]
  },
  {
   "cell_type": "code",
   "execution_count": 15,
   "metadata": {},
   "outputs": [
    {
     "name": "stdout",
     "output_type": "stream",
     "text": [
      "线程 MyThread 执行完毕\n"
     ]
    }
   ],
   "source": [
    "import threading\n",
    "import time\n",
    "\n",
    "## 通过 Thread 子类创建线程\n",
    "class SmallThread(threading.Thread):\n",
    "\tdef __init__(self, name=None):\n",
    "\t\tsuper().__init__(name=name)\n",
    "\n",
    "\t## 重写 Thread run 函数\n",
    "\tdef run(self):\n",
    "\t\tt = threading.current_thread()\n",
    "\t\ttime.sleep(2)\n",
    "\t\tprint('线程 {0} 执行完毕'.format(t.getName()))\n",
    "\n",
    "t1 = SmallThread(name='MyThread')\n",
    "t1.start()"
   ]
  },
  {
   "cell_type": "code",
   "execution_count": 3,
   "metadata": {},
   "outputs": [
    {
     "name": "stdout",
     "output_type": "stream",
     "text": [
      "线程 Thread1 执行完毕\n",
      "主线程执行完毕\n"
     ]
    }
   ],
   "source": [
    "import threading\n",
    "import time\n",
    "\n",
    "def thread_body():\n",
    "\ttime.sleep(2)\n",
    "\tprint('线程 {0} 执行完毕'.format(threading.current_thread().getName()))\n",
    "\n",
    "t = threading.Thread(target=thread_body, name='Thread1')\n",
    "t.start()\n",
    "\n",
    "## 阻塞主线程，等待 Thread1 线程执行完毕后，才往后执行\n",
    "t.join()\n",
    "\n",
    "print('主线程执行完毕')"
   ]
  },
  {
   "cell_type": "code",
   "execution_count": 4,
   "metadata": {},
   "outputs": [
    {
     "name": "stdout",
     "output_type": "stream",
     "text": [
      "线程名称：ThreadPoolExecutor-3_0，睡眠时间: 3\n",
      "线程名称：ThreadPoolExecutor-3_1，睡眠时间: 2\n",
      "线程名称：ThreadPoolExecutor-3_1，睡眠时间: 4\n",
      "线程名称：ThreadPoolExecutor-3_0，睡眠时间: 1\n",
      "线程名称：ThreadPoolExecutor-3_0，睡眠时间: 2\n"
     ]
    }
   ],
   "source": [
    "from concurrent.futures import ThreadPoolExecutor\n",
    "import threading\n",
    "import random\n",
    "import time\n",
    "\n",
    "def task() -> int:\n",
    "\tsleep_time = random.randint(1, 5)\n",
    "\tprint(f'线程名称：{threading.current_thread().name}，睡眠时间: {sleep_time}')\n",
    "\ttime.sleep(sleep_time)\n",
    "\treturn sleep_time\n",
    "\n",
    "# 创建线程池，最大工作线程为 2\n",
    "with ThreadPoolExecutor(max_workers=2) as executor:\n",
    "\tfor _ in range(5):\n",
    "\t\tfuture = executor.submit(task)\n",
    "\t\t# 判断线程是否执行结束\n",
    "\t\tif future.done():\n",
    "\t\t\tprint(f'执行结果: {future.result()}')"
   ]
  },
  {
   "cell_type": "code",
   "execution_count": 6,
   "metadata": {},
   "outputs": [
    {
     "name": "stdout",
     "output_type": "stream",
     "text": [
      "线程名称：ThreadPoolExecutor-5_0，睡眠时间: 2\n",
      "线程名称：ThreadPoolExecutor-5_1，睡眠时间: 3\n",
      "线程名称：ThreadPoolExecutor-5_0，睡眠时间: 2\n",
      "线程名称：ThreadPoolExecutor-5_1，睡眠时间: 3\n",
      "线程名称：ThreadPoolExecutor-5_0，睡眠时间: 3\n",
      "程序执行完成\n"
     ]
    }
   ],
   "source": [
    "from concurrent.futures import wait, FIRST_COMPLETED\n",
    "\n",
    "with ThreadPoolExecutor(max_workers=2) as executor:\n",
    "\t# 任务队列\n",
    "\twait_list = [executor.submit(task) for _ in range(5)]\n",
    "\n",
    "  #  FIRST_COMPLETED 表示 完成第一个就停止等待\n",
    "\t# wait(fs, timeout=None, return_when=ALL_COMPLETED)\n",
    "\twait(wait_list) # wait 等待队列中的任务完成\n",
    "\tprint('程序执行完成')\n",
    "\t"
   ]
  },
  {
   "cell_type": "code",
   "execution_count": 9,
   "metadata": {},
   "outputs": [
    {
     "name": "stdout",
     "output_type": "stream",
     "text": [
      "线程名称：ThreadPoolExecutor-8_0，睡眠时间: 1\n",
      "线程名称：ThreadPoolExecutor-8_1，睡眠时间: 3\n",
      "线程名称：ThreadPoolExecutor-8_0，睡眠时间: 3线程执行结果：1\n",
      "\n",
      "线程名称：ThreadPoolExecutor-8_1，睡眠时间: 1\n",
      "线程执行结果：3\n",
      "线程名称：ThreadPoolExecutor-8_0，睡眠时间: 1线程执行结果：3\n",
      "\n",
      "线程执行结果：1\n",
      "线程执行结果：1\n",
      "程序执行完成\n"
     ]
    }
   ],
   "source": [
    "# 当某个任务完成后，就将结果交由主线程，而不是通过主线程对每个线程都进行完成判断\n",
    "from concurrent.futures import as_completed\n",
    "\n",
    "with ThreadPoolExecutor(max_workers=2) as executor:\n",
    "\ttask_list = [executor.submit(task) for _ in range(5)]\n",
    "\tfor future in as_completed(task_list):\n",
    "\t\tprint(f'线程执行结果：{future.result()}')\n",
    "\tprint('程序执行完成')"
   ]
  },
  {
   "cell_type": "code",
   "execution_count": 12,
   "metadata": {},
   "outputs": [
    {
     "name": "stdout",
     "output_type": "stream",
     "text": [
      "ThreadPoolExecutor-11_0, 参数: 1\n",
      "ThreadPoolExecutor-11_1, 参数: 2\n",
      "ThreadPoolExecutor-11_0, 参数: 3ThreadPoolExecutor-11_1, 参数: 4\n",
      "None\n",
      "None\n",
      "\n",
      "ThreadPoolExecutor-11_1, 参数: 5\n",
      "None\n",
      "None\n",
      "None\n"
     ]
    }
   ],
   "source": [
    "\n",
    "def task_map(i):\n",
    "\tsleep_time = random.randint(1, 5)\n",
    "\tprint(f'{threading.current_thread().name}, 参数: {i}')\n",
    "\ttime.sleep(sleep_time)\n",
    "\n",
    "with ThreadPoolExecutor(max_workers=2) as executor:\n",
    "\t# map 方法与 python 高阶函数 map 的含义相同，都是将序列中的每个元素都执行同一个函数 \n",
    "\tfor result in executor.map(task_map, [1, 2, 3, 4, 5]):\n",
    "\t\tprint(result)\n",
    "\t\t"
   ]
  },
  {
   "attachments": {},
   "cell_type": "markdown",
   "metadata": {},
   "source": [
    "### 使用多线程实现交替打印 A、B、C 10次"
   ]
  },
  {
   "cell_type": "code",
   "execution_count": 9,
   "metadata": {},
   "outputs": [
    {
     "name": "stdout",
     "output_type": "stream",
     "text": [
      "ThreadA -  A\n",
      "ThreadB -  B\n",
      "ThreadC -  C\n",
      "ThreadA -  A\n",
      "ThreadB -  B\n",
      "ThreadC -  C\n",
      "ThreadA -  A\n",
      "ThreadB -  B\n",
      "ThreadC -  C\n",
      "ThreadA -  A\n",
      "ThreadB -  B\n",
      "ThreadC -  C\n",
      "ThreadA -  A\n",
      "ThreadB -  B\n",
      "ThreadC -  C\n",
      "ThreadA -  A\n",
      "ThreadB -  B\n",
      "ThreadC -  C\n",
      "ThreadA -  A\n",
      "ThreadB -  B\n",
      "ThreadC -  C\n",
      "ThreadA -  A\n",
      "ThreadB -  B\n",
      "ThreadC -  C\n",
      "ThreadA -  A\n",
      "ThreadB -  B\n",
      "ThreadC -  C\n",
      "ThreadA -  A\n",
      "ThreadB -  B\n"
     ]
    },
    {
     "name": "stdout",
     "output_type": "stream",
     "text": [
      "ThreadC -  C\n"
     ]
    }
   ],
   "source": [
    "import threading\n",
    "\n",
    "def print_a():\n",
    "    for _ in range(10):\n",
    "        semaphoreA.acquire() # 锁定自己的信号量\n",
    "        print(f'{threading.current_thread().name} -  A')\n",
    "        semaphoreB.release() # 释放下一个打印的信号量\n",
    "\n",
    "def print_b():\n",
    "    for _ in range(10):\n",
    "        semaphoreB.acquire()\n",
    "        print(f'{threading.current_thread().name} -  B')\n",
    "        semaphoreC.release()\n",
    "\n",
    "def print_c():\n",
    "    for _ in range(10):\n",
    "        semaphoreC.acquire()\n",
    "        print(f'{threading.current_thread().name} -  C')\n",
    "        semaphoreA.release()\n",
    "\n",
    "# 创建信号量\n",
    "semaphoreA = threading.Semaphore(1)\n",
    "semaphoreB = threading.Semaphore(0)\n",
    "semaphoreC = threading.Semaphore(0)\n",
    "\n",
    "# 创建线程\n",
    "threadA = threading.Thread(target=print_a, name='ThreadA')\n",
    "threadB = threading.Thread(target=print_b, name='ThreadB')\n",
    "threadC = threading.Thread(target=print_c, name='ThreadC')\n",
    "\n",
    "# 启动线程\n",
    "threadA.start()\n",
    "threadB.start()\n",
    "threadC.start()"
   ]
  },
  {
   "cell_type": "code",
   "execution_count": 11,
   "metadata": {},
   "outputs": [
    {
     "name": "stdout",
     "output_type": "stream",
     "text": [
      "ThreadA -  A\n",
      "ThreadB -  B\n",
      "ThreadC -  C\n",
      "ThreadA -  A\n",
      "ThreadB -  B\n",
      "ThreadC -  C\n",
      "ThreadA -  A\n",
      "ThreadB -  B\n",
      "ThreadC -  C\n",
      "ThreadA -  A\n",
      "ThreadB -  B\n",
      "ThreadC -  C\n",
      "ThreadA -  A\n",
      "ThreadB -  B\n",
      "ThreadC -  C\n",
      "ThreadA -  A\n",
      "ThreadB -  B\n",
      "ThreadC -  C\n",
      "ThreadA -  A\n",
      "ThreadB -  B\n",
      "ThreadC -  C\n",
      "ThreadA -  A\n",
      "ThreadB -  B\n",
      "ThreadC -  C\n",
      "ThreadA -  A\n",
      "ThreadB -  B\n",
      "ThreadC -  C\n",
      "ThreadA -  A\n"
     ]
    },
    {
     "name": "stdout",
     "output_type": "stream",
     "text": [
      "ThreadB -  B\n",
      "ThreadC -  C\n"
     ]
    }
   ],
   "source": [
    "import threading\n",
    "\n",
    "def print_a():\n",
    "    for _ in range(10):\n",
    "        lockC.acquire() # 获取上一个打印的锁\n",
    "        print(f'{threading.current_thread().name} -  A')\n",
    "        lockA.release() # 释放自己的锁\n",
    "        \n",
    "def print_b():\n",
    "    for _ in range(10):\n",
    "        lockA.acquire()\n",
    "        print(f'{threading.current_thread().name} -  B')\n",
    "        lockB.release()\n",
    "        \n",
    "def print_c():\n",
    "    for _ in range(10):\n",
    "        lockB.acquire()\n",
    "        print(f'{threading.current_thread().name} -  C')\n",
    "        lockC.release()\n",
    "\n",
    "# 创建锁\n",
    "lockA = threading.Lock()\n",
    "lockB = threading.Lock()\n",
    "lockC = threading.Lock()\n",
    "\n",
    "# 创建线程\n",
    "threadA = threading.Thread(target=print_a, name='ThreadA')\n",
    "threadB = threading.Thread(target=print_b, name='ThreadB')\n",
    "threadC = threading.Thread(target=print_c, name='ThreadC')\n",
    "\n",
    "# 先锁 A、B 保证 线程A 最先输出\n",
    "lockA.acquire()\n",
    "lockB.acquire()\n",
    "\n",
    "# 启动线程\n",
    "threadA.start()\n",
    "threadB.start()\n",
    "threadC.start()\n",
    "\n"
   ]
  }
 ],
 "metadata": {
  "kernelspec": {
   "display_name": "pytorch",
   "language": "python",
   "name": "python3"
  },
  "language_info": {
   "codemirror_mode": {
    "name": "ipython",
    "version": 3
   },
   "file_extension": ".py",
   "mimetype": "text/x-python",
   "name": "python",
   "nbconvert_exporter": "python",
   "pygments_lexer": "ipython3",
   "version": "3.9.13"
  },
  "orig_nbformat": 4,
  "vscode": {
   "interpreter": {
    "hash": "8a5edab282632443219e051e4ade2d1d5bbc671c781051bf1437897cbdfea0f1"
   }
  }
 },
 "nbformat": 4,
 "nbformat_minor": 2
}
