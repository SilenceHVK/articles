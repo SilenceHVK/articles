{
 "cells": [
  {
   "cell_type": "code",
   "execution_count": 4,
   "metadata": {},
   "outputs": [
    {
     "name": "stdout",
     "output_type": "stream",
     "text": [
      "当前线程名称 => MainThread\n",
      "当前活动线程数量 =>  8\n",
      "主线程名称 => MainThread\n"
     ]
    }
   ],
   "source": [
    "## threading 模块多线程 API，Thread 是线程类，提供了线程相关函数\n",
    "## active_count(): 当前处于活动状态的线程个数\n",
    "## current_thread(): 返回当前线程对象\n",
    "## main_thread(): 返回主线程对象，主线程对象是由 Python 解释器提供的线程\n",
    "\n",
    "import threading\n",
    "\n",
    "current_thread = threading.current_thread()\n",
    "print('当前线程名称 => ' + current_thread.getName())\n",
    "\n",
    "activeCount = threading.active_count()\n",
    "print('当前活动线程数量 => ', activeCount)\n",
    "\n",
    "mainThread = threading.main_thread()\n",
    "print('主线程名称 => ' + mainThread.getName())\n"
   ]
  },
  {
   "cell_type": "code",
   "execution_count": 14,
   "metadata": {},
   "outputs": [
    {
     "name": "stdout",
     "output_type": "stream",
     "text": [
      "线程 MainThread 执行完成\n",
      "\n"
     ]
    },
    {
     "name": "stdout",
     "output_type": "stream",
     "text": [
      "线程: 线程1 执行完成\n"
     ]
    }
   ],
   "source": [
    "\n",
    "import threading\n",
    "import time\n",
    "\n",
    "## 线程体：线程体是子线程要执行的代码\n",
    "def thread_body():\n",
    "\tt = threading.current_thread()\n",
    "\ttime.sleep(2)\n",
    "\tprint('线程: {0} 执行完成'.format(t.getName()))\n",
    "\n",
    "## 线程对象：线程对象是 threading 模块的线程类 Thread 或 Thread 子类所创建的对象\n",
    "t1 = threading.Thread(target=thread_body, name=\"线程1\")\n",
    "## 启动线程\n",
    "t1.start()\n",
    "\n",
    "print('线程 {0} 执行完成\\n'.format(threading.current_thread().getName()))"
   ]
  },
  {
   "cell_type": "code",
   "execution_count": 15,
   "metadata": {},
   "outputs": [
    {
     "name": "stdout",
     "output_type": "stream",
     "text": [
      "线程 MyThread 执行完毕\n"
     ]
    }
   ],
   "source": [
    "import threading\n",
    "import time\n",
    "\n",
    "## 通过 Thread 子类创建线程\n",
    "class SmallThread(threading.Thread):\n",
    "\tdef __init__(self, name=None):\n",
    "\t\tsuper().__init__(name=name)\n",
    "\n",
    "\t## 重写 Thread run 函数\n",
    "\tdef run(self):\n",
    "\t\tt = threading.current_thread()\n",
    "\t\ttime.sleep(2)\n",
    "\t\tprint('线程 {0} 执行完毕'.format(t.getName()))\n",
    "\n",
    "t1 = SmallThread(name='MyThread')\n",
    "t1.start()"
   ]
  },
  {
   "cell_type": "code",
   "execution_count": 3,
   "metadata": {},
   "outputs": [
    {
     "name": "stdout",
     "output_type": "stream",
     "text": [
      "线程 Thread1 执行完毕\n",
      "主线程执行完毕\n"
     ]
    }
   ],
   "source": [
    "import threading\n",
    "import time\n",
    "\n",
    "def thread_body():\n",
    "\ttime.sleep(2)\n",
    "\tprint('线程 {0} 执行完毕'.format(threading.current_thread().getName()))\n",
    "\n",
    "t = threading.Thread(target=thread_body, name='Thread1')\n",
    "t.start()\n",
    "\n",
    "## 阻塞主线程，等待 Thread1 线程执行完毕后，才往后执行\n",
    "t.join()\n",
    "\n",
    "print('主线程执行完毕')"
   ]
  }
 ],
 "metadata": {
  "kernelspec": {
   "display_name": "Python 3.8.9 ('.venv': venv)",
   "language": "python",
   "name": "python3"
  },
  "language_info": {
   "codemirror_mode": {
    "name": "ipython",
    "version": 3
   },
   "file_extension": ".py",
   "mimetype": "text/x-python",
   "name": "python",
   "nbconvert_exporter": "python",
   "pygments_lexer": "ipython3",
   "version": "3.8.9"
  },
  "orig_nbformat": 4,
  "vscode": {
   "interpreter": {
    "hash": "e1d30e79187653a64ff09eab781a151550c58b898f76aa0dc1787cd16f8572d8"
   }
  }
 },
 "nbformat": 4,
 "nbformat_minor": 2
}
