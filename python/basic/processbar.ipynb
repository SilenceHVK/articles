{
 "cells": [
  {
   "cell_type": "code",
   "execution_count": 15,
   "metadata": {
    "collapsed": true,
    "ExecuteTime": {
     "end_time": "2023-08-16T05:49:30.640233Z",
     "start_time": "2023-08-16T05:49:25.257204Z"
    }
   },
   "outputs": [
    {
     "name": "stdout",
     "output_type": "stream",
     "text": [
      "Download progress: 100% ▋▋▋▋▋▋▋▋▋▋▋▋▋▋▋▋▋▋▋▋▋▋▋▋▋▋▋▋▋▋▋▋▋▋▋▋▋▋▋▋▋▋▋▋▋▋▋▋▋▋\r"
     ]
    }
   ],
   "source": [
    "import time\n",
    "\n",
    "for i in range(1, 101):\n",
    "\tprint(f'Download progress: {i}% {\"▋\" * (i // 2)}', end='\\r')\n",
    "\ttime.sleep(0.05)"
   ]
  },
  {
   "cell_type": "code",
   "execution_count": 23,
   "outputs": [
    {
     "name": "stdout",
     "output_type": "stream",
     "text": [
      "Download Complete:100% ==================================================\n"
     ]
    }
   ],
   "source": [
    "import time\n",
    "\n",
    "total = 101\n",
    "for i in range(1, total):\n",
    "\tprint(f'Download progress:{i}% {\"=\" * (i // 2)}{\"_\" * ((total - i) // 2)}', end='\\r')\n",
    "\tif i == total - 1:\n",
    "\t\tprint('Download Complete')\n",
    "\ttime.sleep(0.05)"
   ],
   "metadata": {
    "collapsed": false,
    "ExecuteTime": {
     "end_time": "2023-08-16T05:54:12.013751Z",
     "start_time": "2023-08-16T05:54:06.661885Z"
    }
   }
  },
  {
   "cell_type": "code",
   "execution_count": 27,
   "outputs": [
    {
     "name": "stderr",
     "output_type": "stream",
     "text": [
      "100%|██████████| 500/500 [00:05<00:00, 83.99it/s]\n"
     ]
    }
   ],
   "source": [
    "import time\n",
    "import tqdm\n",
    "\n",
    "for i in tqdm.tqdm(range(1, 501)):\n",
    "\ttime.sleep(0.01)\n",
    "time.sleep(0.05)\n"
   ],
   "metadata": {
    "collapsed": false,
    "ExecuteTime": {
     "end_time": "2023-08-16T05:58:08.229850Z",
     "start_time": "2023-08-16T05:58:02.218523Z"
    }
   }
  }
 ],
 "metadata": {
  "kernelspec": {
   "display_name": "Python 3",
   "language": "python",
   "name": "python3"
  },
  "language_info": {
   "codemirror_mode": {
    "name": "ipython",
    "version": 2
   },
   "file_extension": ".py",
   "mimetype": "text/x-python",
   "name": "python",
   "nbconvert_exporter": "python",
   "pygments_lexer": "ipython2",
   "version": "2.7.6"
  }
 },
 "nbformat": 4,
 "nbformat_minor": 0
}
