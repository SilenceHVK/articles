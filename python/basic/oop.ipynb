{
 "cells": [
  {
   "cell_type": "code",
   "execution_count": 11,
   "metadata": {},
   "outputs": [
    {
     "name": "stdout",
     "output_type": "stream",
     "text": [
      "狗狗的名字叫 毛毛，年龄 2\n",
      "狗狗 毛毛 在奔跑\n",
      "狗狗 毛毛 正在吃 骨头\n",
      "狗狗 毛毛 正在吃 狗粮\n",
      "雪纳瑞\n",
      "狗狗 花花 的品种为 雪纳瑞\n",
      "修改生日 => 2022-05-19\n"
     ]
    }
   ],
   "source": [
    "## 创建类格式 class ClassName(父类): object 是 Python 是所有类的根类, pass 表示空代码块占位\n",
    "class Dog(object):\n",
    "\t## 类变量，不需要实例调用\n",
    "\tvariety = '雪纳瑞'\n",
    "\n",
    "  ## __ 前缀表示私有变量，只能在类内中访问，外部访问将报错，私有方法与私有变量类似\n",
    "\t__private_name= '私有变量名称'\n",
    "\n",
    "  ## 类方法，必须使用 @classmethod 装饰器修饰，cls 表示该类\n",
    "\t@classmethod\n",
    "\tdef class_method(cls, name='无名氏'):\n",
    "\t\tprint('狗狗 {0} 的品种为 {1}'.format(name, cls.variety))\n",
    "\n",
    "\n",
    "\t## __init__ 为构造方法\n",
    "\tdef __init__(self, name, age, birthday):\n",
    "\t\tself.name = name\n",
    "\t\tself.age = age\n",
    "\t\tself.__birthday = birthday\n",
    "\n",
    "\t## property 装饰器修饰，方法名为属性名 = get_birthday\n",
    "\t@property \n",
    "\tdef birthday(self):\n",
    "\t\treturn self.__birthday\n",
    "\t\n",
    "\t## birthday.setter 装饰器修饰，方法名为属性名 = set_birthday\n",
    "\t@birthday.setter\n",
    "\tdef birthday(self, birthday):\n",
    "\t\tself.__birthday = birthday\n",
    "\n",
    "\t## 实例方法\n",
    "\tdef run(self):\n",
    "\t\tprint('狗狗 {0} 在奔跑'.format(self.name))\n",
    "\t\n",
    "\t## 带参数的实例方法\n",
    "\tdef eat(self, food='骨头'):\n",
    "\t\tprint('狗狗 {0} 正在吃 {1}'.format(self.name, food))\n",
    "\n",
    "## 类的实例化\n",
    "dog = Dog('毛毛', 2, '2022-06-17')\n",
    "print('狗狗的名字叫 {0}，年龄 {1}'.format(dog.name, dog.age))\n",
    "dog.run()\n",
    "dog.eat()\n",
    "dog.eat('狗粮')\n",
    "print(Dog.variety)\n",
    "Dog.class_method(name='花花')\n",
    "\n",
    "\n",
    "dog.birthday = '2022-05-19'\n",
    "print('修改生日 => '+ dog.birthday)\n",
    "\n"
   ]
  },
  {
   "cell_type": "code",
   "execution_count": 12,
   "metadata": {},
   "outputs": [
    {
     "name": "stdout",
     "output_type": "stream",
     "text": [
      "Hello\n",
      "起飞.....\n"
     ]
    }
   ],
   "source": [
    "class Human:\n",
    "\tdef __init__(self, name):\n",
    "\t\tself.name = name\n",
    "\tdef greeting(self):\n",
    "\t\tprint('Hello')\n",
    "\n",
    "\tdef move(self):\n",
    "\t\tprint('移动.....')\n",
    "\n",
    "class Superman(Human):\n",
    "\tdef __init__(self, name):\n",
    "\t\t## 调用父类初始化方法\n",
    "\t\tsuper().__init__(name)\n",
    "\t\n",
    "\t## 重写父类方法\n",
    "\tdef move(self):\n",
    "\t\tprint('起飞.....')\n",
    "\t\n",
    "superman = Superman('张三')\n",
    "\n",
    "superman.greeting()\n",
    "superman.move()\n",
    "\t\t\n"
   ]
  },
  {
   "cell_type": "code",
   "execution_count": 14,
   "metadata": {},
   "outputs": [
    {
     "name": "stdout",
     "output_type": "stream",
     "text": [
      "马跑....\n",
      "驴打滚....\n",
      "骡的名字 骡宝莉, 年龄 1\n"
     ]
    }
   ],
   "source": [
    "## Python 支持多继承，级别是从左到右，由高到低\n",
    "class Hourse:\n",
    "\tdef __init__(self, name):\n",
    "\t\tself.name = name\n",
    "\tdef show_info(self):\n",
    "\t\treturn '马的名字：{0}'.format(self.name)\n",
    "\tdef run(self):\n",
    "\t\tprint('马跑....')\n",
    "\n",
    "class Donkey:\n",
    "\tdef __init__(self, name):\n",
    "\t\tself.name = name\n",
    "\tdef show_info(self):\n",
    "\t\treturn '驴的名字：{0}'.format(self.name)\n",
    "\tdef run(self):\n",
    "\t\tprint('驴跑....')\n",
    "\tdef roll(self):\n",
    "\t\tprint('驴打滚....')\n",
    "\n",
    "class Mule(Hourse, Donkey):\n",
    "\tdef __init__(self, name, age):\n",
    "\t\tsuper().__init__(name)\n",
    "\t\tself.age = age\n",
    "\tdef show_info(self):\n",
    "\t\treturn \"骡的名字 {0}, 年龄 {1}\".format(self.name, self.age)\n",
    "\n",
    "mule = Mule('骡宝莉', 1)\n",
    "mule.run()\n",
    "mule.roll()\n",
    "print(mule.show_info())"
   ]
  }
 ],
 "metadata": {
  "kernelspec": {
   "display_name": "Python 3.8.9 ('.venv': venv)",
   "language": "python",
   "name": "python3"
  },
  "language_info": {
   "codemirror_mode": {
    "name": "ipython",
    "version": 3
   },
   "file_extension": ".py",
   "mimetype": "text/x-python",
   "name": "python",
   "nbconvert_exporter": "python",
   "pygments_lexer": "ipython3",
   "version": "3.8.9"
  },
  "orig_nbformat": 4,
  "vscode": {
   "interpreter": {
    "hash": "e1d30e79187653a64ff09eab781a151550c58b898f76aa0dc1787cd16f8572d8"
   }
  }
 },
 "nbformat": 4,
 "nbformat_minor": 2
}
