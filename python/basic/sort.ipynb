{
 "cells": [
  {
   "cell_type": "code",
   "execution_count": null,
   "metadata": {},
   "outputs": [],
   "source": [
    "data = [20, 10, 99, 33, 88, 7, 55, 7, 33]\n",
    "size = len(data)\n",
    "print(data)"
   ]
  },
  {
   "cell_type": "code",
   "execution_count": null,
   "metadata": {},
   "outputs": [],
   "source": [
    "## 冒泡排序\n",
    "print('冒泡排序')\n",
    "for i in range(size - 1):\n",
    "\tfor j in range(size - i - 1):\n",
    "\t\tif data[j] > data[j + 1]:\n",
    "\t\t\tdata[j], data[j + 1] = data[j + 1], data[j]\n",
    "print(data)"
   ]
  },
  {
   "cell_type": "code",
   "execution_count": null,
   "metadata": {},
   "outputs": [],
   "source": [
    "## 选择排序\n",
    "print('选择排序')\n",
    "for i in range(size - 1):\n",
    "\tmin = i\n",
    "\tfor j in range(i + 1, size - 1):\n",
    "\t\tif data[min] > data[j]:\n",
    "\t\t\tmin = j\n",
    "\tif min != i:\n",
    "\t\tdata[min], data[i] = data[i], data[min]\n",
    "print(data)"
   ]
  },
  {
   "cell_type": "code",
   "execution_count": null,
   "metadata": {},
   "outputs": [],
   "source": [
    "## 插入排序\n",
    "print('插入排序')\n",
    "for i in range(size):\n",
    "\tpre = i - 1\n",
    "\twhile pre >= 0 and data[pre] > data[pre + 1]:\n",
    "\t\tdata[pre], data[pre + 1] = data[pre + 1], data[pre]\n",
    "\t\tpre-=1\n",
    "print(data)"
   ]
  },
  {
   "cell_type": "code",
   "execution_count": 22,
   "metadata": {},
   "outputs": [
    {
     "name": "stdout",
     "output_type": "stream",
     "text": [
      "快速排序 [20, 10, 99, 33, 88, 7, 55, 7, 33]\n",
      "[7, 7, 10, 20, 33, 33, 55, 88, 99]\n"
     ]
    }
   ],
   "source": [
    "## 快速排序\n",
    "data = [20, 10, 99, 33, 88, 7, 55, 7, 33]\n",
    "size = len(data)\n",
    "\n",
    "print('快速排序', data)\n",
    "\n",
    "def partition(data, l, r):\n",
    "\tpovit = data[r]\n",
    "\tindex = l\n",
    "\tlessIndex = l - 1\n",
    "\tmoreIndex = r\n",
    "\n",
    "\twhile index < moreIndex:\n",
    "\t\tif data[index] < povit:\n",
    "\t\t\tdata[index], data[lessIndex + 1] = data[lessIndex + 1], data[index]\n",
    "\t\t\tlessIndex+=1\n",
    "\t\t\tindex+=1\n",
    "\t\telif data[index] > povit:\n",
    "\t\t\tdata[index], data[moreIndex - 1] = data[moreIndex - 1], data[index]\n",
    "\t\t\tmoreIndex -= 1\n",
    "\t\telse:\n",
    "\t\t\tindex+=1\n",
    "\t\n",
    "\tdata[r], data[moreIndex] = data[moreIndex], data[r]\n",
    "\treturn (lessIndex, moreIndex + 1)\n",
    "\n",
    "def quick_sort(data, l, r):\n",
    "\tif l >= r:\n",
    "\t\treturn\n",
    "\tlessIndex, moreIndex = partition(data, l, r)\n",
    "\tquick_sort(data, l, lessIndex)\n",
    "\tquick_sort(data, moreIndex, r)\n",
    "\n",
    "quick_sort(data,  0, size - 1)\n",
    "print(data)"
   ]
  }
 ],
 "metadata": {
  "kernelspec": {
   "display_name": "Python 3.8.9 ('.venv': venv)",
   "language": "python",
   "name": "python3"
  },
  "language_info": {
   "codemirror_mode": {
    "name": "ipython",
    "version": 3
   },
   "file_extension": ".py",
   "mimetype": "text/x-python",
   "name": "python",
   "nbconvert_exporter": "python",
   "pygments_lexer": "ipython3",
   "version": "3.8.9"
  },
  "orig_nbformat": 4,
  "vscode": {
   "interpreter": {
    "hash": "e1d30e79187653a64ff09eab781a151550c58b898f76aa0dc1787cd16f8572d8"
   }
  }
 },
 "nbformat": 4,
 "nbformat_minor": 2
}
